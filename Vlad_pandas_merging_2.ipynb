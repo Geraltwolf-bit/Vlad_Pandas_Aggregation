{
 "cells": [
  {
   "cell_type": "code",
   "execution_count": 1,
   "id": "5c612da6",
   "metadata": {
    "_cell_guid": "b1076dfc-b9ad-4769-8c92-a6c4dae69d19",
    "_uuid": "8f2839f25d086af736a60e9eeb907d3b93b6e0e5",
    "execution": {
     "iopub.execute_input": "2025-09-05T07:00:19.446429Z",
     "iopub.status.busy": "2025-09-05T07:00:19.446123Z",
     "iopub.status.idle": "2025-09-05T07:00:21.479799Z",
     "shell.execute_reply": "2025-09-05T07:00:21.479011Z"
    },
    "papermill": {
     "duration": 2.039364,
     "end_time": "2025-09-05T07:00:21.481510",
     "exception": false,
     "start_time": "2025-09-05T07:00:19.442146",
     "status": "completed"
    },
    "tags": []
   },
   "outputs": [],
   "source": [
    "# This Python 3 environment comes with many helpful analytics libraries installed\n",
    "# It is defined by the kaggle/python Docker image: https://github.com/kaggle/docker-python\n",
    "# For example, here's several helpful packages to load\n",
    "\n",
    "import numpy as np # linear algebra\n",
    "import pandas as pd # data processing, CSV file I/O (e.g. pd.read_csv)\n",
    "\n",
    "# Input data files are available in the read-only \"../input/\" directory\n",
    "# For example, running this (by clicking run or pressing Shift+Enter) will list all files under the input directory\n",
    "\n",
    "import os\n",
    "for dirname, _, filenames in os.walk('/kaggle/input'):\n",
    "    for filename in filenames:\n",
    "        print(os.path.join(dirname, filename))\n",
    "\n",
    "# You can write up to 20GB to the current directory (/kaggle/working/) that gets preserved as output when you create a version using \"Save & Run All\" \n",
    "# You can also write temporary files to /kaggle/temp/, but they won't be saved outside of the current session"
   ]
  },
  {
   "cell_type": "code",
   "execution_count": 2,
   "id": "93ad8549",
   "metadata": {
    "execution": {
     "iopub.execute_input": "2025-09-05T07:00:21.487924Z",
     "iopub.status.busy": "2025-09-05T07:00:21.487430Z",
     "iopub.status.idle": "2025-09-05T07:00:21.499641Z",
     "shell.execute_reply": "2025-09-05T07:00:21.498712Z"
    },
    "papermill": {
     "duration": 0.016974,
     "end_time": "2025-09-05T07:00:21.501314",
     "exception": false,
     "start_time": "2025-09-05T07:00:21.484340",
     "status": "completed"
    },
    "tags": []
   },
   "outputs": [],
   "source": [
    "sales = pd.DataFrame({\n",
    "    'id': [101, 102, 103, 104, 105, 106],\n",
    "    'client_id': [1, 2, 1, 3, 4, 5],  # client_id = 4 and 5 not in clients\n",
    "    'item': ['TechBook Pro 15', 'ViewMax 24HD', 'KeyPro MX', 'TechBook Air', 'ClickOne Mini', 'SoundX Pro'],\n",
    "    'amount': [1200, 300, 100, 1300, 50, 500]\n",
    "})\n",
    "\n",
    "clients = pd.DataFrame({\n",
    "    'client_id': [1, 2, 3, 6],  # client_id = 6 is not in sales\n",
    "    'client_name': ['Alice', 'Bob', 'Charlie', 'Diana'],\n",
    "    'region_id': [10, 11, 10, 12]\n",
    "})"
   ]
  },
  {
   "cell_type": "code",
   "execution_count": 3,
   "id": "ff10996a",
   "metadata": {
    "execution": {
     "iopub.execute_input": "2025-09-05T07:00:21.506872Z",
     "iopub.status.busy": "2025-09-05T07:00:21.506486Z",
     "iopub.status.idle": "2025-09-05T07:00:21.566145Z",
     "shell.execute_reply": "2025-09-05T07:00:21.565127Z"
    },
    "papermill": {
     "duration": 0.064019,
     "end_time": "2025-09-05T07:00:21.567567",
     "exception": false,
     "start_time": "2025-09-05T07:00:21.503548",
     "status": "completed"
    },
    "tags": []
   },
   "outputs": [
    {
     "name": "stderr",
     "output_type": "stream",
     "text": [
      "/usr/local/lib/python3.11/dist-packages/pandas/io/formats/format.py:1458: RuntimeWarning: invalid value encountered in greater\n",
      "  has_large_values = (abs_vals > 1e6).any()\n",
      "/usr/local/lib/python3.11/dist-packages/pandas/io/formats/format.py:1459: RuntimeWarning: invalid value encountered in less\n",
      "  has_small_values = ((abs_vals < 10 ** (-self.digits)) & (abs_vals > 0)).any()\n",
      "/usr/local/lib/python3.11/dist-packages/pandas/io/formats/format.py:1459: RuntimeWarning: invalid value encountered in greater\n",
      "  has_small_values = ((abs_vals < 10 ** (-self.digits)) & (abs_vals > 0)).any()\n"
     ]
    },
    {
     "data": {
      "text/html": [
       "<div>\n",
       "<style scoped>\n",
       "    .dataframe tbody tr th:only-of-type {\n",
       "        vertical-align: middle;\n",
       "    }\n",
       "\n",
       "    .dataframe tbody tr th {\n",
       "        vertical-align: top;\n",
       "    }\n",
       "\n",
       "    .dataframe thead th {\n",
       "        text-align: right;\n",
       "    }\n",
       "</style>\n",
       "<table border=\"1\" class=\"dataframe\">\n",
       "  <thead>\n",
       "    <tr style=\"text-align: right;\">\n",
       "      <th></th>\n",
       "      <th>id</th>\n",
       "      <th>client_id</th>\n",
       "      <th>item</th>\n",
       "      <th>amount</th>\n",
       "      <th>client_name</th>\n",
       "      <th>region_id</th>\n",
       "    </tr>\n",
       "  </thead>\n",
       "  <tbody>\n",
       "    <tr>\n",
       "      <th>0</th>\n",
       "      <td>101.0</td>\n",
       "      <td>1</td>\n",
       "      <td>TechBook Pro 15</td>\n",
       "      <td>1200.0</td>\n",
       "      <td>Alice</td>\n",
       "      <td>10.0</td>\n",
       "    </tr>\n",
       "    <tr>\n",
       "      <th>1</th>\n",
       "      <td>103.0</td>\n",
       "      <td>1</td>\n",
       "      <td>KeyPro MX</td>\n",
       "      <td>100.0</td>\n",
       "      <td>Alice</td>\n",
       "      <td>10.0</td>\n",
       "    </tr>\n",
       "    <tr>\n",
       "      <th>2</th>\n",
       "      <td>102.0</td>\n",
       "      <td>2</td>\n",
       "      <td>ViewMax 24HD</td>\n",
       "      <td>300.0</td>\n",
       "      <td>Bob</td>\n",
       "      <td>11.0</td>\n",
       "    </tr>\n",
       "    <tr>\n",
       "      <th>3</th>\n",
       "      <td>104.0</td>\n",
       "      <td>3</td>\n",
       "      <td>TechBook Air</td>\n",
       "      <td>1300.0</td>\n",
       "      <td>Charlie</td>\n",
       "      <td>10.0</td>\n",
       "    </tr>\n",
       "    <tr>\n",
       "      <th>4</th>\n",
       "      <td>105.0</td>\n",
       "      <td>4</td>\n",
       "      <td>ClickOne Mini</td>\n",
       "      <td>50.0</td>\n",
       "      <td>NaN</td>\n",
       "      <td>NaN</td>\n",
       "    </tr>\n",
       "    <tr>\n",
       "      <th>5</th>\n",
       "      <td>106.0</td>\n",
       "      <td>5</td>\n",
       "      <td>SoundX Pro</td>\n",
       "      <td>500.0</td>\n",
       "      <td>NaN</td>\n",
       "      <td>NaN</td>\n",
       "    </tr>\n",
       "    <tr>\n",
       "      <th>6</th>\n",
       "      <td>NaN</td>\n",
       "      <td>6</td>\n",
       "      <td>NaN</td>\n",
       "      <td>NaN</td>\n",
       "      <td>Diana</td>\n",
       "      <td>12.0</td>\n",
       "    </tr>\n",
       "  </tbody>\n",
       "</table>\n",
       "</div>"
      ],
      "text/plain": [
       "      id  client_id             item  amount client_name  region_id\n",
       "0  101.0          1  TechBook Pro 15  1200.0       Alice       10.0\n",
       "1  103.0          1        KeyPro MX   100.0       Alice       10.0\n",
       "2  102.0          2     ViewMax 24HD   300.0         Bob       11.0\n",
       "3  104.0          3     TechBook Air  1300.0     Charlie       10.0\n",
       "4  105.0          4    ClickOne Mini    50.0         NaN        NaN\n",
       "5  106.0          5       SoundX Pro   500.0         NaN        NaN\n",
       "6    NaN          6              NaN     NaN       Diana       12.0"
      ]
     },
     "execution_count": 3,
     "metadata": {},
     "output_type": "execute_result"
    }
   ],
   "source": [
    "#find users who placed an order but are absent in \"clients\":\n",
    "#first, merge datasets with outer to see all values, including nans:\n",
    "df = sales.merge(clients, on = 'client_id', how = 'outer')\n",
    "df"
   ]
  },
  {
   "cell_type": "code",
   "execution_count": 4,
   "id": "4fb62ff5",
   "metadata": {
    "execution": {
     "iopub.execute_input": "2025-09-05T07:00:21.574000Z",
     "iopub.status.busy": "2025-09-05T07:00:21.573419Z",
     "iopub.status.idle": "2025-09-05T07:00:21.579999Z",
     "shell.execute_reply": "2025-09-05T07:00:21.578918Z"
    },
    "papermill": {
     "duration": 0.011349,
     "end_time": "2025-09-05T07:00:21.581439",
     "exception": false,
     "start_time": "2025-09-05T07:00:21.570090",
     "status": "completed"
    },
    "tags": []
   },
   "outputs": [
    {
     "name": "stdout",
     "output_type": "stream",
     "text": [
      "Ids of clients who placed order but are absent in the client list are: [4, 5]\n"
     ]
    }
   ],
   "source": [
    "#now from the resulting dataframe, find users who placed an order but are absent in \"clients\":\n",
    "absent_clients = df.loc[df['client_name'].isna(), 'client_id'].tolist()\n",
    "print(f\"Ids of clients who placed order but are absent in the client list are: {absent_clients}\")"
   ]
  },
  {
   "cell_type": "code",
   "execution_count": 5,
   "id": "29e08a83",
   "metadata": {
    "execution": {
     "iopub.execute_input": "2025-09-05T07:00:21.588499Z",
     "iopub.status.busy": "2025-09-05T07:00:21.587750Z",
     "iopub.status.idle": "2025-09-05T07:00:21.594093Z",
     "shell.execute_reply": "2025-09-05T07:00:21.593132Z"
    },
    "papermill": {
     "duration": 0.011281,
     "end_time": "2025-09-05T07:00:21.595451",
     "exception": false,
     "start_time": "2025-09-05T07:00:21.584170",
     "status": "completed"
    },
    "tags": []
   },
   "outputs": [
    {
     "name": "stdout",
     "output_type": "stream",
     "text": [
      "The number of clients who didn't place order is: 1\n"
     ]
    }
   ],
   "source": [
    "#find how many user didn't place order:\n",
    "no_order_clients = len(df.loc[df['item'].isna()])\n",
    "print(f\"The number of clients who didn't place order is: {no_order_clients}\")"
   ]
  },
  {
   "cell_type": "code",
   "execution_count": 6,
   "id": "d3557467",
   "metadata": {
    "execution": {
     "iopub.execute_input": "2025-09-05T07:00:21.601952Z",
     "iopub.status.busy": "2025-09-05T07:00:21.601244Z",
     "iopub.status.idle": "2025-09-05T07:00:21.616131Z",
     "shell.execute_reply": "2025-09-05T07:00:21.615041Z"
    },
    "papermill": {
     "duration": 0.019647,
     "end_time": "2025-09-05T07:00:21.617634",
     "exception": false,
     "start_time": "2025-09-05T07:00:21.597987",
     "status": "completed"
    },
    "tags": []
   },
   "outputs": [
    {
     "name": "stderr",
     "output_type": "stream",
     "text": [
      "/usr/local/lib/python3.11/dist-packages/pandas/io/formats/format.py:1458: RuntimeWarning: invalid value encountered in greater\n",
      "  has_large_values = (abs_vals > 1e6).any()\n",
      "/usr/local/lib/python3.11/dist-packages/pandas/io/formats/format.py:1459: RuntimeWarning: invalid value encountered in less\n",
      "  has_small_values = ((abs_vals < 10 ** (-self.digits)) & (abs_vals > 0)).any()\n",
      "/usr/local/lib/python3.11/dist-packages/pandas/io/formats/format.py:1459: RuntimeWarning: invalid value encountered in greater\n",
      "  has_small_values = ((abs_vals < 10 ** (-self.digits)) & (abs_vals > 0)).any()\n"
     ]
    },
    {
     "data": {
      "text/html": [
       "<div>\n",
       "<style scoped>\n",
       "    .dataframe tbody tr th:only-of-type {\n",
       "        vertical-align: middle;\n",
       "    }\n",
       "\n",
       "    .dataframe tbody tr th {\n",
       "        vertical-align: top;\n",
       "    }\n",
       "\n",
       "    .dataframe thead th {\n",
       "        text-align: right;\n",
       "    }\n",
       "</style>\n",
       "<table border=\"1\" class=\"dataframe\">\n",
       "  <thead>\n",
       "    <tr style=\"text-align: right;\">\n",
       "      <th></th>\n",
       "      <th>id</th>\n",
       "      <th>client_id</th>\n",
       "      <th>item</th>\n",
       "      <th>amount</th>\n",
       "      <th>client_name</th>\n",
       "      <th>region_id</th>\n",
       "    </tr>\n",
       "  </thead>\n",
       "  <tbody>\n",
       "    <tr>\n",
       "      <th>0</th>\n",
       "      <td>101.0</td>\n",
       "      <td>1</td>\n",
       "      <td>TechBook Pro 15</td>\n",
       "      <td>1200.0</td>\n",
       "      <td>Alice</td>\n",
       "      <td>10.0</td>\n",
       "    </tr>\n",
       "    <tr>\n",
       "      <th>1</th>\n",
       "      <td>103.0</td>\n",
       "      <td>1</td>\n",
       "      <td>KeyPro MX</td>\n",
       "      <td>100.0</td>\n",
       "      <td>Alice</td>\n",
       "      <td>10.0</td>\n",
       "    </tr>\n",
       "    <tr>\n",
       "      <th>2</th>\n",
       "      <td>102.0</td>\n",
       "      <td>2</td>\n",
       "      <td>ViewMax 24HD</td>\n",
       "      <td>300.0</td>\n",
       "      <td>Bob</td>\n",
       "      <td>11.0</td>\n",
       "    </tr>\n",
       "    <tr>\n",
       "      <th>3</th>\n",
       "      <td>104.0</td>\n",
       "      <td>3</td>\n",
       "      <td>TechBook Air</td>\n",
       "      <td>1300.0</td>\n",
       "      <td>Charlie</td>\n",
       "      <td>10.0</td>\n",
       "    </tr>\n",
       "    <tr>\n",
       "      <th>4</th>\n",
       "      <td>105.0</td>\n",
       "      <td>4</td>\n",
       "      <td>ClickOne Mini</td>\n",
       "      <td>50.0</td>\n",
       "      <td>Unknown client</td>\n",
       "      <td>NaN</td>\n",
       "    </tr>\n",
       "    <tr>\n",
       "      <th>5</th>\n",
       "      <td>106.0</td>\n",
       "      <td>5</td>\n",
       "      <td>SoundX Pro</td>\n",
       "      <td>500.0</td>\n",
       "      <td>Unknown client</td>\n",
       "      <td>NaN</td>\n",
       "    </tr>\n",
       "    <tr>\n",
       "      <th>6</th>\n",
       "      <td>NaN</td>\n",
       "      <td>6</td>\n",
       "      <td>No order</td>\n",
       "      <td>NaN</td>\n",
       "      <td>Diana</td>\n",
       "      <td>12.0</td>\n",
       "    </tr>\n",
       "  </tbody>\n",
       "</table>\n",
       "</div>"
      ],
      "text/plain": [
       "      id  client_id             item  amount     client_name  region_id\n",
       "0  101.0          1  TechBook Pro 15  1200.0           Alice       10.0\n",
       "1  103.0          1        KeyPro MX   100.0           Alice       10.0\n",
       "2  102.0          2     ViewMax 24HD   300.0             Bob       11.0\n",
       "3  104.0          3     TechBook Air  1300.0         Charlie       10.0\n",
       "4  105.0          4    ClickOne Mini    50.0  Unknown client        NaN\n",
       "5  106.0          5       SoundX Pro   500.0  Unknown client        NaN\n",
       "6    NaN          6         No order     NaN           Diana       12.0"
      ]
     },
     "execution_count": 6,
     "metadata": {},
     "output_type": "execute_result"
    }
   ],
   "source": [
    "#replace nans in \"client_name\" with \"Unknown client\"\n",
    "#replace nans in \"item\" with \"No order\"\n",
    "df[\"client_name\"] = df[\"client_name\"].fillna(\"Unknown client\") #use fillna\n",
    "df[\"item\"] = np.where(df[\"item\"].isna(), \"No order\", df[\"item\"]) #use np.where()\n",
    "df"
   ]
  },
  {
   "cell_type": "code",
   "execution_count": 7,
   "id": "44c27126",
   "metadata": {
    "execution": {
     "iopub.execute_input": "2025-09-05T07:00:21.624180Z",
     "iopub.status.busy": "2025-09-05T07:00:21.623870Z",
     "iopub.status.idle": "2025-09-05T07:00:21.639684Z",
     "shell.execute_reply": "2025-09-05T07:00:21.638930Z"
    },
    "papermill": {
     "duration": 0.020965,
     "end_time": "2025-09-05T07:00:21.641409",
     "exception": false,
     "start_time": "2025-09-05T07:00:21.620444",
     "status": "completed"
    },
    "tags": []
   },
   "outputs": [
    {
     "data": {
      "text/html": [
       "<div>\n",
       "<style scoped>\n",
       "    .dataframe tbody tr th:only-of-type {\n",
       "        vertical-align: middle;\n",
       "    }\n",
       "\n",
       "    .dataframe tbody tr th {\n",
       "        vertical-align: top;\n",
       "    }\n",
       "\n",
       "    .dataframe thead th {\n",
       "        text-align: right;\n",
       "    }\n",
       "</style>\n",
       "<table border=\"1\" class=\"dataframe\">\n",
       "  <thead>\n",
       "    <tr style=\"text-align: right;\">\n",
       "      <th></th>\n",
       "      <th>Client</th>\n",
       "      <th>Number_of_orders</th>\n",
       "    </tr>\n",
       "  </thead>\n",
       "  <tbody>\n",
       "    <tr>\n",
       "      <th>0</th>\n",
       "      <td>Alice</td>\n",
       "      <td>2</td>\n",
       "    </tr>\n",
       "    <tr>\n",
       "      <th>4</th>\n",
       "      <td>Unknown client</td>\n",
       "      <td>2</td>\n",
       "    </tr>\n",
       "    <tr>\n",
       "      <th>1</th>\n",
       "      <td>Bob</td>\n",
       "      <td>1</td>\n",
       "    </tr>\n",
       "    <tr>\n",
       "      <th>2</th>\n",
       "      <td>Charlie</td>\n",
       "      <td>1</td>\n",
       "    </tr>\n",
       "    <tr>\n",
       "      <th>3</th>\n",
       "      <td>Diana</td>\n",
       "      <td>0</td>\n",
       "    </tr>\n",
       "  </tbody>\n",
       "</table>\n",
       "</div>"
      ],
      "text/plain": [
       "           Client  Number_of_orders\n",
       "0           Alice                 2\n",
       "4  Unknown client                 2\n",
       "1             Bob                 1\n",
       "2         Charlie                 1\n",
       "3           Diana                 0"
      ]
     },
     "execution_count": 7,
     "metadata": {},
     "output_type": "execute_result"
    }
   ],
   "source": [
    "#show the each client's number of orders:\n",
    "#this is tricky because \"No order\" is just another item for the program and it'll count it as such.\n",
    "#to solve this problem, group clients with itesm, create boolean mask on \"No order\", where item != No order is True, item == No order is False\n",
    "#for each group, sum up True(1) and False(0)\n",
    "number_of_orders = df.groupby('client_name')['item'].apply(lambda x: (x != 'No order').sum())\n",
    "number_of_orders = pd.DataFrame(number_of_orders).reset_index()\n",
    "number_of_orders.columns = ['Client', 'Number_of_orders']\n",
    "number_of_orders.sort_values(by = 'Number_of_orders', ascending = False)"
   ]
  }
 ],
 "metadata": {
  "kaggle": {
   "accelerator": "none",
   "dataSources": [],
   "dockerImageVersionId": 31089,
   "isGpuEnabled": false,
   "isInternetEnabled": true,
   "language": "python",
   "sourceType": "notebook"
  },
  "kernelspec": {
   "display_name": "Python 3",
   "language": "python",
   "name": "python3"
  },
  "language_info": {
   "codemirror_mode": {
    "name": "ipython",
    "version": 3
   },
   "file_extension": ".py",
   "mimetype": "text/x-python",
   "name": "python",
   "nbconvert_exporter": "python",
   "pygments_lexer": "ipython3",
   "version": "3.11.13"
  },
  "papermill": {
   "default_parameters": {},
   "duration": 8.646558,
   "end_time": "2025-09-05T07:00:22.164376",
   "environment_variables": {},
   "exception": null,
   "input_path": "__notebook__.ipynb",
   "output_path": "__notebook__.ipynb",
   "parameters": {},
   "start_time": "2025-09-05T07:00:13.517818",
   "version": "2.6.0"
  }
 },
 "nbformat": 4,
 "nbformat_minor": 5
}
