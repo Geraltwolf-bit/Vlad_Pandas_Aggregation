{
 "cells": [
  {
   "cell_type": "code",
   "execution_count": 1,
   "id": "ebeacc31",
   "metadata": {
    "_cell_guid": "b1076dfc-b9ad-4769-8c92-a6c4dae69d19",
    "_uuid": "8f2839f25d086af736a60e9eeb907d3b93b6e0e5",
    "execution": {
     "iopub.execute_input": "2025-09-04T17:41:56.054851Z",
     "iopub.status.busy": "2025-09-04T17:41:56.054529Z",
     "iopub.status.idle": "2025-09-04T17:41:57.868081Z",
     "shell.execute_reply": "2025-09-04T17:41:57.867003Z"
    },
    "papermill": {
     "duration": 1.819682,
     "end_time": "2025-09-04T17:41:57.869743",
     "exception": false,
     "start_time": "2025-09-04T17:41:56.050061",
     "status": "completed"
    },
    "tags": []
   },
   "outputs": [],
   "source": [
    "# This Python 3 environment comes with many helpful analytics libraries installed\n",
    "# It is defined by the kaggle/python Docker image: https://github.com/kaggle/docker-python\n",
    "# For example, here's several helpful packages to load\n",
    "\n",
    "import numpy as np # linear algebra\n",
    "import pandas as pd # data processing, CSV file I/O (e.g. pd.read_csv)\n",
    "\n",
    "# Input data files are available in the read-only \"../input/\" directory\n",
    "# For example, running this (by clicking run or pressing Shift+Enter) will list all files under the input directory\n",
    "\n",
    "import os\n",
    "for dirname, _, filenames in os.walk('/kaggle/input'):\n",
    "    for filename in filenames:\n",
    "        print(os.path.join(dirname, filename))\n",
    "\n",
    "# You can write up to 20GB to the current directory (/kaggle/working/) that gets preserved as output when you create a version using \"Save & Run All\" \n",
    "# You can also write temporary files to /kaggle/temp/, but they won't be saved outside of the current session"
   ]
  },
  {
   "cell_type": "markdown",
   "id": "31846aed",
   "metadata": {
    "papermill": {
     "duration": 0.002849,
     "end_time": "2025-09-04T17:41:57.875833",
     "exception": false,
     "start_time": "2025-09-04T17:41:57.872984",
     "status": "completed"
    },
    "tags": []
   },
   "source": [
    "Produce one dataset with the columns: \"user_name\", \"item\", \"price\" from this data:"
   ]
  },
  {
   "cell_type": "code",
   "execution_count": 2,
   "id": "ce7f47eb",
   "metadata": {
    "execution": {
     "iopub.execute_input": "2025-09-04T17:41:57.882542Z",
     "iopub.status.busy": "2025-09-04T17:41:57.882021Z",
     "iopub.status.idle": "2025-09-04T17:41:57.893559Z",
     "shell.execute_reply": "2025-09-04T17:41:57.892726Z"
    },
    "papermill": {
     "duration": 0.016737,
     "end_time": "2025-09-04T17:41:57.895214",
     "exception": false,
     "start_time": "2025-09-04T17:41:57.878477",
     "status": "completed"
    },
    "tags": []
   },
   "outputs": [],
   "source": [
    "# sales\n",
    "sales = pd.DataFrame({\n",
    "    'id': [101, 102, 103, 104, 105],\n",
    "    'client_id': [1, 2, 1, 3, 3],\n",
    "    'product': ['TechBook Pro 15', 'ViewMax 24HD', 'KeyPro MX', 'TechBook Air', 'ClickOne Mini'],\n",
    "    'price': [1200, 999, 599, 1500, 99]\n",
    "})\n",
    "\n",
    "# clients\n",
    "clients = pd.DataFrame({\n",
    "    'id': [1, 2, 3, 4, 5],\n",
    "    'name': ['Vladimir', 'Sergei', 'Michael', 'Ivan', 'Daria'],\n",
    "    'city_id': [10, 11, 10, 11, 10]\n",
    "})\n",
    "\n",
    "# cities\n",
    "cities = pd.DataFrame({\n",
    "    'id': [10, 11],\n",
    "    'name': ['Miami', 'Atlanta']\n",
    "})"
   ]
  },
  {
   "cell_type": "code",
   "execution_count": 3,
   "id": "044a04d0",
   "metadata": {
    "execution": {
     "iopub.execute_input": "2025-09-04T17:41:57.901764Z",
     "iopub.status.busy": "2025-09-04T17:41:57.901460Z",
     "iopub.status.idle": "2025-09-04T17:41:57.913757Z",
     "shell.execute_reply": "2025-09-04T17:41:57.913009Z"
    },
    "papermill": {
     "duration": 0.017339,
     "end_time": "2025-09-04T17:41:57.915325",
     "exception": false,
     "start_time": "2025-09-04T17:41:57.897986",
     "status": "completed"
    },
    "tags": []
   },
   "outputs": [],
   "source": [
    "#rename columns:\n",
    "sales_renamed = sales.rename(columns = {'id': 'product_id'})\n",
    "clients_renamed = clients.rename(columns = {'id': 'client_id', 'name': 'client_name'})\n",
    "cities_renamed = cities.rename(columns = {'id': 'city_id', 'name': 'city_name'})"
   ]
  },
  {
   "cell_type": "code",
   "execution_count": 4,
   "id": "449257ec",
   "metadata": {
    "execution": {
     "iopub.execute_input": "2025-09-04T17:41:57.921762Z",
     "iopub.status.busy": "2025-09-04T17:41:57.921453Z",
     "iopub.status.idle": "2025-09-04T17:41:57.961366Z",
     "shell.execute_reply": "2025-09-04T17:41:57.960369Z"
    },
    "papermill": {
     "duration": 0.045,
     "end_time": "2025-09-04T17:41:57.962988",
     "exception": false,
     "start_time": "2025-09-04T17:41:57.917988",
     "status": "completed"
    },
    "tags": []
   },
   "outputs": [
    {
     "data": {
      "text/html": [
       "<div>\n",
       "<style scoped>\n",
       "    .dataframe tbody tr th:only-of-type {\n",
       "        vertical-align: middle;\n",
       "    }\n",
       "\n",
       "    .dataframe tbody tr th {\n",
       "        vertical-align: top;\n",
       "    }\n",
       "\n",
       "    .dataframe thead th {\n",
       "        text-align: right;\n",
       "    }\n",
       "</style>\n",
       "<table border=\"1\" class=\"dataframe\">\n",
       "  <thead>\n",
       "    <tr style=\"text-align: right;\">\n",
       "      <th></th>\n",
       "      <th>product_id</th>\n",
       "      <th>client_id</th>\n",
       "      <th>product</th>\n",
       "      <th>price</th>\n",
       "      <th>client_name</th>\n",
       "      <th>city_id</th>\n",
       "      <th>city_name</th>\n",
       "    </tr>\n",
       "  </thead>\n",
       "  <tbody>\n",
       "    <tr>\n",
       "      <th>0</th>\n",
       "      <td>101</td>\n",
       "      <td>1</td>\n",
       "      <td>TechBook Pro 15</td>\n",
       "      <td>1200</td>\n",
       "      <td>Vladimir</td>\n",
       "      <td>10</td>\n",
       "      <td>Miami</td>\n",
       "    </tr>\n",
       "    <tr>\n",
       "      <th>1</th>\n",
       "      <td>102</td>\n",
       "      <td>2</td>\n",
       "      <td>ViewMax 24HD</td>\n",
       "      <td>999</td>\n",
       "      <td>Sergei</td>\n",
       "      <td>11</td>\n",
       "      <td>Atlanta</td>\n",
       "    </tr>\n",
       "    <tr>\n",
       "      <th>2</th>\n",
       "      <td>103</td>\n",
       "      <td>1</td>\n",
       "      <td>KeyPro MX</td>\n",
       "      <td>599</td>\n",
       "      <td>Vladimir</td>\n",
       "      <td>10</td>\n",
       "      <td>Miami</td>\n",
       "    </tr>\n",
       "    <tr>\n",
       "      <th>3</th>\n",
       "      <td>104</td>\n",
       "      <td>3</td>\n",
       "      <td>TechBook Air</td>\n",
       "      <td>1500</td>\n",
       "      <td>Michael</td>\n",
       "      <td>10</td>\n",
       "      <td>Miami</td>\n",
       "    </tr>\n",
       "    <tr>\n",
       "      <th>4</th>\n",
       "      <td>105</td>\n",
       "      <td>3</td>\n",
       "      <td>ClickOne Mini</td>\n",
       "      <td>99</td>\n",
       "      <td>Michael</td>\n",
       "      <td>10</td>\n",
       "      <td>Miami</td>\n",
       "    </tr>\n",
       "  </tbody>\n",
       "</table>\n",
       "</div>"
      ],
      "text/plain": [
       "   product_id  client_id          product  price client_name  city_id  \\\n",
       "0         101          1  TechBook Pro 15   1200    Vladimir       10   \n",
       "1         102          2     ViewMax 24HD    999      Sergei       11   \n",
       "2         103          1        KeyPro MX    599    Vladimir       10   \n",
       "3         104          3     TechBook Air   1500     Michael       10   \n",
       "4         105          3    ClickOne Mini     99     Michael       10   \n",
       "\n",
       "  city_name  \n",
       "0     Miami  \n",
       "1   Atlanta  \n",
       "2     Miami  \n",
       "3     Miami  \n",
       "4     Miami  "
      ]
     },
     "execution_count": 4,
     "metadata": {},
     "output_type": "execute_result"
    }
   ],
   "source": [
    "tdf = sales_renamed.merge(clients_renamed, on = 'client_id', how = 'inner')\n",
    "df = tdf.merge(cities_renamed, on = 'city_id', how = 'inner')\n",
    "df"
   ]
  },
  {
   "cell_type": "code",
   "execution_count": 5,
   "id": "2a96b80d",
   "metadata": {
    "execution": {
     "iopub.execute_input": "2025-09-04T17:41:57.969652Z",
     "iopub.status.busy": "2025-09-04T17:41:57.969396Z",
     "iopub.status.idle": "2025-09-04T17:41:57.978663Z",
     "shell.execute_reply": "2025-09-04T17:41:57.977847Z"
    },
    "papermill": {
     "duration": 0.014178,
     "end_time": "2025-09-04T17:41:57.980050",
     "exception": false,
     "start_time": "2025-09-04T17:41:57.965872",
     "status": "completed"
    },
    "tags": []
   },
   "outputs": [
    {
     "data": {
      "text/html": [
       "<div>\n",
       "<style scoped>\n",
       "    .dataframe tbody tr th:only-of-type {\n",
       "        vertical-align: middle;\n",
       "    }\n",
       "\n",
       "    .dataframe tbody tr th {\n",
       "        vertical-align: top;\n",
       "    }\n",
       "\n",
       "    .dataframe thead th {\n",
       "        text-align: right;\n",
       "    }\n",
       "</style>\n",
       "<table border=\"1\" class=\"dataframe\">\n",
       "  <thead>\n",
       "    <tr style=\"text-align: right;\">\n",
       "      <th></th>\n",
       "      <th>client_name</th>\n",
       "      <th>product</th>\n",
       "      <th>price</th>\n",
       "    </tr>\n",
       "  </thead>\n",
       "  <tbody>\n",
       "    <tr>\n",
       "      <th>0</th>\n",
       "      <td>Vladimir</td>\n",
       "      <td>TechBook Pro 15</td>\n",
       "      <td>1200</td>\n",
       "    </tr>\n",
       "    <tr>\n",
       "      <th>1</th>\n",
       "      <td>Sergei</td>\n",
       "      <td>ViewMax 24HD</td>\n",
       "      <td>999</td>\n",
       "    </tr>\n",
       "    <tr>\n",
       "      <th>2</th>\n",
       "      <td>Vladimir</td>\n",
       "      <td>KeyPro MX</td>\n",
       "      <td>599</td>\n",
       "    </tr>\n",
       "    <tr>\n",
       "      <th>3</th>\n",
       "      <td>Michael</td>\n",
       "      <td>TechBook Air</td>\n",
       "      <td>1500</td>\n",
       "    </tr>\n",
       "    <tr>\n",
       "      <th>4</th>\n",
       "      <td>Michael</td>\n",
       "      <td>ClickOne Mini</td>\n",
       "      <td>99</td>\n",
       "    </tr>\n",
       "  </tbody>\n",
       "</table>\n",
       "</div>"
      ],
      "text/plain": [
       "  client_name          product  price\n",
       "0    Vladimir  TechBook Pro 15   1200\n",
       "1      Sergei     ViewMax 24HD    999\n",
       "2    Vladimir        KeyPro MX    599\n",
       "3     Michael     TechBook Air   1500\n",
       "4     Michael    ClickOne Mini     99"
      ]
     },
     "execution_count": 5,
     "metadata": {},
     "output_type": "execute_result"
    }
   ],
   "source": [
    "final_df = df[['client_name', 'product', 'price']]\n",
    "final_df"
   ]
  },
  {
   "cell_type": "code",
   "execution_count": 6,
   "id": "5d4a2c92",
   "metadata": {
    "execution": {
     "iopub.execute_input": "2025-09-04T17:41:57.987070Z",
     "iopub.status.busy": "2025-09-04T17:41:57.986795Z",
     "iopub.status.idle": "2025-09-04T17:41:58.003358Z",
     "shell.execute_reply": "2025-09-04T17:41:58.002476Z"
    },
    "papermill": {
     "duration": 0.021492,
     "end_time": "2025-09-04T17:41:58.004656",
     "exception": false,
     "start_time": "2025-09-04T17:41:57.983164",
     "status": "completed"
    },
    "tags": []
   },
   "outputs": [
    {
     "name": "stderr",
     "output_type": "stream",
     "text": [
      "/usr/local/lib/python3.11/dist-packages/pandas/io/formats/format.py:1458: RuntimeWarning: invalid value encountered in greater\n",
      "  has_large_values = (abs_vals > 1e6).any()\n",
      "/usr/local/lib/python3.11/dist-packages/pandas/io/formats/format.py:1459: RuntimeWarning: invalid value encountered in less\n",
      "  has_small_values = ((abs_vals < 10 ** (-self.digits)) & (abs_vals > 0)).any()\n",
      "/usr/local/lib/python3.11/dist-packages/pandas/io/formats/format.py:1459: RuntimeWarning: invalid value encountered in greater\n",
      "  has_small_values = ((abs_vals < 10 ** (-self.digits)) & (abs_vals > 0)).any()\n"
     ]
    },
    {
     "data": {
      "text/html": [
       "<div>\n",
       "<style scoped>\n",
       "    .dataframe tbody tr th:only-of-type {\n",
       "        vertical-align: middle;\n",
       "    }\n",
       "\n",
       "    .dataframe tbody tr th {\n",
       "        vertical-align: top;\n",
       "    }\n",
       "\n",
       "    .dataframe thead th {\n",
       "        text-align: right;\n",
       "    }\n",
       "</style>\n",
       "<table border=\"1\" class=\"dataframe\">\n",
       "  <thead>\n",
       "    <tr style=\"text-align: right;\">\n",
       "      <th></th>\n",
       "      <th>product_id</th>\n",
       "      <th>client_id</th>\n",
       "      <th>product</th>\n",
       "      <th>price</th>\n",
       "      <th>client_name</th>\n",
       "      <th>city_id</th>\n",
       "    </tr>\n",
       "  </thead>\n",
       "  <tbody>\n",
       "    <tr>\n",
       "      <th>0</th>\n",
       "      <td>101.0</td>\n",
       "      <td>1</td>\n",
       "      <td>TechBook Pro 15</td>\n",
       "      <td>1200.0</td>\n",
       "      <td>Vladimir</td>\n",
       "      <td>10</td>\n",
       "    </tr>\n",
       "    <tr>\n",
       "      <th>1</th>\n",
       "      <td>103.0</td>\n",
       "      <td>1</td>\n",
       "      <td>KeyPro MX</td>\n",
       "      <td>599.0</td>\n",
       "      <td>Vladimir</td>\n",
       "      <td>10</td>\n",
       "    </tr>\n",
       "    <tr>\n",
       "      <th>2</th>\n",
       "      <td>102.0</td>\n",
       "      <td>2</td>\n",
       "      <td>ViewMax 24HD</td>\n",
       "      <td>999.0</td>\n",
       "      <td>Sergei</td>\n",
       "      <td>11</td>\n",
       "    </tr>\n",
       "    <tr>\n",
       "      <th>3</th>\n",
       "      <td>104.0</td>\n",
       "      <td>3</td>\n",
       "      <td>TechBook Air</td>\n",
       "      <td>1500.0</td>\n",
       "      <td>Michael</td>\n",
       "      <td>10</td>\n",
       "    </tr>\n",
       "    <tr>\n",
       "      <th>4</th>\n",
       "      <td>105.0</td>\n",
       "      <td>3</td>\n",
       "      <td>ClickOne Mini</td>\n",
       "      <td>99.0</td>\n",
       "      <td>Michael</td>\n",
       "      <td>10</td>\n",
       "    </tr>\n",
       "    <tr>\n",
       "      <th>5</th>\n",
       "      <td>NaN</td>\n",
       "      <td>4</td>\n",
       "      <td>NaN</td>\n",
       "      <td>NaN</td>\n",
       "      <td>Ivan</td>\n",
       "      <td>11</td>\n",
       "    </tr>\n",
       "    <tr>\n",
       "      <th>6</th>\n",
       "      <td>NaN</td>\n",
       "      <td>5</td>\n",
       "      <td>NaN</td>\n",
       "      <td>NaN</td>\n",
       "      <td>Daria</td>\n",
       "      <td>10</td>\n",
       "    </tr>\n",
       "  </tbody>\n",
       "</table>\n",
       "</div>"
      ],
      "text/plain": [
       "   product_id  client_id          product   price client_name  city_id\n",
       "0       101.0          1  TechBook Pro 15  1200.0    Vladimir       10\n",
       "1       103.0          1        KeyPro MX   599.0    Vladimir       10\n",
       "2       102.0          2     ViewMax 24HD   999.0      Sergei       11\n",
       "3       104.0          3     TechBook Air  1500.0     Michael       10\n",
       "4       105.0          3    ClickOne Mini    99.0     Michael       10\n",
       "5         NaN          4              NaN     NaN        Ivan       11\n",
       "6         NaN          5              NaN     NaN       Daria       10"
      ]
     },
     "execution_count": 6,
     "metadata": {},
     "output_type": "execute_result"
    }
   ],
   "source": [
    "df1 = sales_renamed.merge(clients_renamed, on = 'client_id', how = 'outer')\n",
    "df1"
   ]
  },
  {
   "cell_type": "code",
   "execution_count": 7,
   "id": "0ac627f6",
   "metadata": {
    "execution": {
     "iopub.execute_input": "2025-09-04T17:41:58.011806Z",
     "iopub.status.busy": "2025-09-04T17:41:58.011500Z",
     "iopub.status.idle": "2025-09-04T17:41:58.017560Z",
     "shell.execute_reply": "2025-09-04T17:41:58.016864Z"
    },
    "papermill": {
     "duration": 0.011022,
     "end_time": "2025-09-04T17:41:58.018842",
     "exception": false,
     "start_time": "2025-09-04T17:41:58.007820",
     "status": "completed"
    },
    "tags": []
   },
   "outputs": [
    {
     "name": "stdout",
     "output_type": "stream",
     "text": [
      "Clients who didn't buy anything: ['Ivan', 'Daria']\n"
     ]
    }
   ],
   "source": [
    "#print the names of clients who didn't buy anything:\n",
    "res = df1.loc[df1['price'].isna()]\n",
    "clints_no_purchase = res.client_name.to_list()\n",
    "print(\"Clients who didn't buy anything:\", clints_no_purchase)"
   ]
  },
  {
   "cell_type": "code",
   "execution_count": 8,
   "id": "79f3bbb2",
   "metadata": {
    "execution": {
     "iopub.execute_input": "2025-09-04T17:41:58.027122Z",
     "iopub.status.busy": "2025-09-04T17:41:58.026861Z",
     "iopub.status.idle": "2025-09-04T17:41:58.040606Z",
     "shell.execute_reply": "2025-09-04T17:41:58.039826Z"
    },
    "papermill": {
     "duration": 0.019823,
     "end_time": "2025-09-04T17:41:58.041981",
     "exception": false,
     "start_time": "2025-09-04T17:41:58.022158",
     "status": "completed"
    },
    "tags": []
   },
   "outputs": [
    {
     "data": {
      "text/html": [
       "<div>\n",
       "<style scoped>\n",
       "    .dataframe tbody tr th:only-of-type {\n",
       "        vertical-align: middle;\n",
       "    }\n",
       "\n",
       "    .dataframe tbody tr th {\n",
       "        vertical-align: top;\n",
       "    }\n",
       "\n",
       "    .dataframe thead th {\n",
       "        text-align: right;\n",
       "    }\n",
       "</style>\n",
       "<table border=\"1\" class=\"dataframe\">\n",
       "  <thead>\n",
       "    <tr style=\"text-align: right;\">\n",
       "      <th></th>\n",
       "      <th>client_name</th>\n",
       "      <th>product</th>\n",
       "      <th>city_name</th>\n",
       "    </tr>\n",
       "  </thead>\n",
       "  <tbody>\n",
       "    <tr>\n",
       "      <th>0</th>\n",
       "      <td>Vladimir</td>\n",
       "      <td>TechBook Pro 15</td>\n",
       "      <td>Miami</td>\n",
       "    </tr>\n",
       "    <tr>\n",
       "      <th>1</th>\n",
       "      <td>Sergei</td>\n",
       "      <td>ViewMax 24HD</td>\n",
       "      <td>Atlanta</td>\n",
       "    </tr>\n",
       "    <tr>\n",
       "      <th>2</th>\n",
       "      <td>Vladimir</td>\n",
       "      <td>KeyPro MX</td>\n",
       "      <td>Miami</td>\n",
       "    </tr>\n",
       "    <tr>\n",
       "      <th>3</th>\n",
       "      <td>Michael</td>\n",
       "      <td>TechBook Air</td>\n",
       "      <td>Miami</td>\n",
       "    </tr>\n",
       "    <tr>\n",
       "      <th>4</th>\n",
       "      <td>Michael</td>\n",
       "      <td>ClickOne Mini</td>\n",
       "      <td>Miami</td>\n",
       "    </tr>\n",
       "  </tbody>\n",
       "</table>\n",
       "</div>"
      ],
      "text/plain": [
       "  client_name          product city_name\n",
       "0    Vladimir  TechBook Pro 15     Miami\n",
       "1      Sergei     ViewMax 24HD   Atlanta\n",
       "2    Vladimir        KeyPro MX     Miami\n",
       "3     Michael     TechBook Air     Miami\n",
       "4     Michael    ClickOne Mini     Miami"
      ]
     },
     "execution_count": 8,
     "metadata": {},
     "output_type": "execute_result"
    }
   ],
   "source": [
    "#print users + product + city:\n",
    "df3 = sales_renamed.merge(clients_renamed, on = 'client_id', how = 'inner')\n",
    "df3 = df3.merge(cities_renamed, on = 'city_id', how = 'inner')\n",
    "df3[['client_name', 'product', 'city_name']]"
   ]
  },
  {
   "cell_type": "code",
   "execution_count": 9,
   "id": "7936c3c7",
   "metadata": {
    "execution": {
     "iopub.execute_input": "2025-09-04T17:41:58.050076Z",
     "iopub.status.busy": "2025-09-04T17:41:58.049487Z",
     "iopub.status.idle": "2025-09-04T17:41:58.057427Z",
     "shell.execute_reply": "2025-09-04T17:41:58.056596Z"
    },
    "papermill": {
     "duration": 0.013245,
     "end_time": "2025-09-04T17:41:58.058671",
     "exception": false,
     "start_time": "2025-09-04T17:41:58.045426",
     "status": "completed"
    },
    "tags": []
   },
   "outputs": [
    {
     "name": "stdout",
     "output_type": "stream",
     "text": [
      "The city with max purhcases is Miami.\n"
     ]
    }
   ],
   "source": [
    "#print answer to what city has more purchases:\n",
    "city = df3.city_name.value_counts()\n",
    "max_city_name = city.idxmax()\n",
    "print(f\"The city with max purhcases is {max_city_name}.\")"
   ]
  },
  {
   "cell_type": "code",
   "execution_count": 10,
   "id": "56ffb41e",
   "metadata": {
    "execution": {
     "iopub.execute_input": "2025-09-04T17:41:58.066725Z",
     "iopub.status.busy": "2025-09-04T17:41:58.066019Z",
     "iopub.status.idle": "2025-09-04T17:41:58.072502Z",
     "shell.execute_reply": "2025-09-04T17:41:58.071585Z"
    },
    "papermill": {
     "duration": 0.011964,
     "end_time": "2025-09-04T17:41:58.074024",
     "exception": false,
     "start_time": "2025-09-04T17:41:58.062060",
     "status": "completed"
    },
    "tags": []
   },
   "outputs": [
    {
     "name": "stdout",
     "output_type": "stream",
     "text": [
      "The max number of purhcases is 2 and clients are ['Vladimir', 'Michael'].\n"
     ]
    }
   ],
   "source": [
    "#print answer to what client has more purchases:\n",
    "clients = df3.client_name.value_counts()\n",
    "max_purchase = clients.max()\n",
    "top_clients = clients[clients == max_purchase].index.tolist()\n",
    "print(f\"The max number of purhcases is {max_purchase} and clients are {top_clients}.\")"
   ]
  },
  {
   "cell_type": "code",
   "execution_count": 11,
   "id": "b45a5e75",
   "metadata": {
    "execution": {
     "iopub.execute_input": "2025-09-04T17:41:58.082049Z",
     "iopub.status.busy": "2025-09-04T17:41:58.081775Z",
     "iopub.status.idle": "2025-09-04T17:41:58.096540Z",
     "shell.execute_reply": "2025-09-04T17:41:58.095718Z"
    },
    "papermill": {
     "duration": 0.020336,
     "end_time": "2025-09-04T17:41:58.097960",
     "exception": false,
     "start_time": "2025-09-04T17:41:58.077624",
     "status": "completed"
    },
    "tags": []
   },
   "outputs": [
    {
     "data": {
      "text/html": [
       "<div>\n",
       "<style scoped>\n",
       "    .dataframe tbody tr th:only-of-type {\n",
       "        vertical-align: middle;\n",
       "    }\n",
       "\n",
       "    .dataframe tbody tr th {\n",
       "        vertical-align: top;\n",
       "    }\n",
       "\n",
       "    .dataframe thead th {\n",
       "        text-align: right;\n",
       "    }\n",
       "</style>\n",
       "<table border=\"1\" class=\"dataframe\">\n",
       "  <thead>\n",
       "    <tr style=\"text-align: right;\">\n",
       "      <th></th>\n",
       "      <th>city_id</th>\n",
       "      <th>client_id</th>\n",
       "      <th>client_name</th>\n",
       "      <th>city_name</th>\n",
       "    </tr>\n",
       "  </thead>\n",
       "  <tbody>\n",
       "    <tr>\n",
       "      <th>0</th>\n",
       "      <td>10</td>\n",
       "      <td>1</td>\n",
       "      <td>Vladimir</td>\n",
       "      <td>Miami</td>\n",
       "    </tr>\n",
       "    <tr>\n",
       "      <th>1</th>\n",
       "      <td>11</td>\n",
       "      <td>2</td>\n",
       "      <td>Sergei</td>\n",
       "      <td>Atlanta</td>\n",
       "    </tr>\n",
       "    <tr>\n",
       "      <th>2</th>\n",
       "      <td>10</td>\n",
       "      <td>3</td>\n",
       "      <td>Michael</td>\n",
       "      <td>Miami</td>\n",
       "    </tr>\n",
       "    <tr>\n",
       "      <th>3</th>\n",
       "      <td>11</td>\n",
       "      <td>4</td>\n",
       "      <td>Ivan</td>\n",
       "      <td>Atlanta</td>\n",
       "    </tr>\n",
       "    <tr>\n",
       "      <th>4</th>\n",
       "      <td>10</td>\n",
       "      <td>5</td>\n",
       "      <td>Daria</td>\n",
       "      <td>Miami</td>\n",
       "    </tr>\n",
       "  </tbody>\n",
       "</table>\n",
       "</div>"
      ],
      "text/plain": [
       "   city_id  client_id client_name city_name\n",
       "0       10          1    Vladimir     Miami\n",
       "1       11          2      Sergei   Atlanta\n",
       "2       10          3     Michael     Miami\n",
       "3       11          4        Ivan   Atlanta\n",
       "4       10          5       Daria     Miami"
      ]
     },
     "execution_count": 11,
     "metadata": {},
     "output_type": "execute_result"
    }
   ],
   "source": [
    "#join clints and cities using method join():\n",
    "new_clients = clients_renamed.set_index('city_id')\n",
    "new_cities = cities_renamed.set_index('city_id')\n",
    "new_df = new_clients.join(new_cities).reset_index()\n",
    "new_df"
   ]
  }
 ],
 "metadata": {
  "kaggle": {
   "accelerator": "none",
   "dataSources": [],
   "dockerImageVersionId": 31089,
   "isGpuEnabled": false,
   "isInternetEnabled": true,
   "language": "python",
   "sourceType": "notebook"
  },
  "kernelspec": {
   "display_name": "Python 3",
   "language": "python",
   "name": "python3"
  },
  "language_info": {
   "codemirror_mode": {
    "name": "ipython",
    "version": 3
   },
   "file_extension": ".py",
   "mimetype": "text/x-python",
   "name": "python",
   "nbconvert_exporter": "python",
   "pygments_lexer": "ipython3",
   "version": "3.11.13"
  },
  "papermill": {
   "default_parameters": {},
   "duration": 7.727215,
   "end_time": "2025-09-04T17:41:58.620188",
   "environment_variables": {},
   "exception": null,
   "input_path": "__notebook__.ipynb",
   "output_path": "__notebook__.ipynb",
   "parameters": {},
   "start_time": "2025-09-04T17:41:50.892973",
   "version": "2.6.0"
  }
 },
 "nbformat": 4,
 "nbformat_minor": 5
}
