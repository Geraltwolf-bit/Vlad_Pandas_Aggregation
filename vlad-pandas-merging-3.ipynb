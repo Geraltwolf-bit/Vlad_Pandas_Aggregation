{
 "cells": [
  {
   "cell_type": "code",
   "execution_count": 1,
   "id": "045899ff",
   "metadata": {
    "_cell_guid": "b1076dfc-b9ad-4769-8c92-a6c4dae69d19",
    "_uuid": "8f2839f25d086af736a60e9eeb907d3b93b6e0e5",
    "execution": {
     "iopub.execute_input": "2025-09-05T11:42:41.226259Z",
     "iopub.status.busy": "2025-09-05T11:42:41.225928Z",
     "iopub.status.idle": "2025-09-05T11:42:42.984579Z",
     "shell.execute_reply": "2025-09-05T11:42:42.983728Z"
    },
    "papermill": {
     "duration": 1.764964,
     "end_time": "2025-09-05T11:42:42.986306",
     "exception": false,
     "start_time": "2025-09-05T11:42:41.221342",
     "status": "completed"
    },
    "tags": []
   },
   "outputs": [],
   "source": [
    "# This Python 3 environment comes with many helpful analytics libraries installed\n",
    "# It is defined by the kaggle/python Docker image: https://github.com/kaggle/docker-python\n",
    "# For example, here's several helpful packages to load\n",
    "\n",
    "import numpy as np # linear algebra\n",
    "import pandas as pd # data processing, CSV file I/O (e.g. pd.read_csv)\n",
    "\n",
    "# Input data files are available in the read-only \"../input/\" directory\n",
    "# For example, running this (by clicking run or pressing Shift+Enter) will list all files under the input directory\n",
    "\n",
    "import os\n",
    "for dirname, _, filenames in os.walk('/kaggle/input'):\n",
    "    for filename in filenames:\n",
    "        print(os.path.join(dirname, filename))\n",
    "\n",
    "# You can write up to 20GB to the current directory (/kaggle/working/) that gets preserved as output when you create a version using \"Save & Run All\" \n",
    "# You can also write temporary files to /kaggle/temp/, but they won't be saved outside of the current session"
   ]
  },
  {
   "cell_type": "code",
   "execution_count": 2,
   "id": "b9ca6d29",
   "metadata": {
    "execution": {
     "iopub.execute_input": "2025-09-05T11:42:42.993829Z",
     "iopub.status.busy": "2025-09-05T11:42:42.992955Z",
     "iopub.status.idle": "2025-09-05T11:42:43.001178Z",
     "shell.execute_reply": "2025-09-05T11:42:43.000369Z"
    },
    "papermill": {
     "duration": 0.013156,
     "end_time": "2025-09-05T11:42:43.002720",
     "exception": false,
     "start_time": "2025-09-05T11:42:42.989564",
     "status": "completed"
    },
    "tags": []
   },
   "outputs": [],
   "source": [
    "# web contacts\n",
    "contacts_web = pd.DataFrame({\n",
    "    'name': ['Alice', 'Bob'],\n",
    "    'email': ['alice@example.com', 'bob@example.com'],\n",
    "    'source': ['web', 'web']\n",
    "})\n",
    "\n",
    "# app contacts\n",
    "contacts_app = pd.DataFrame({\n",
    "    'name': ['Charlie', 'Diana'],\n",
    "    'email': ['charlie@app.com', 'diana@app.com'],\n",
    "    'source': ['app', 'app']\n",
    "})\n",
    "\n",
    "# off-line contacts\n",
    "contacts_event = pd.DataFrame({\n",
    "    'name': ['Eve'],\n",
    "    'email': ['eve@event.com'],\n",
    "    'source': ['event']\n",
    "})"
   ]
  },
  {
   "cell_type": "code",
   "execution_count": 3,
   "id": "7e5ec1cd",
   "metadata": {
    "execution": {
     "iopub.execute_input": "2025-09-05T11:42:43.009092Z",
     "iopub.status.busy": "2025-09-05T11:42:43.008780Z",
     "iopub.status.idle": "2025-09-05T11:42:43.041301Z",
     "shell.execute_reply": "2025-09-05T11:42:43.040336Z"
    },
    "papermill": {
     "duration": 0.037526,
     "end_time": "2025-09-05T11:42:43.042930",
     "exception": false,
     "start_time": "2025-09-05T11:42:43.005404",
     "status": "completed"
    },
    "tags": []
   },
   "outputs": [
    {
     "data": {
      "text/html": [
       "<div>\n",
       "<style scoped>\n",
       "    .dataframe tbody tr th:only-of-type {\n",
       "        vertical-align: middle;\n",
       "    }\n",
       "\n",
       "    .dataframe tbody tr th {\n",
       "        vertical-align: top;\n",
       "    }\n",
       "\n",
       "    .dataframe thead th {\n",
       "        text-align: right;\n",
       "    }\n",
       "</style>\n",
       "<table border=\"1\" class=\"dataframe\">\n",
       "  <thead>\n",
       "    <tr style=\"text-align: right;\">\n",
       "      <th></th>\n",
       "      <th>name</th>\n",
       "      <th>email</th>\n",
       "      <th>source</th>\n",
       "    </tr>\n",
       "  </thead>\n",
       "  <tbody>\n",
       "    <tr>\n",
       "      <th>0</th>\n",
       "      <td>Alice</td>\n",
       "      <td>alice@example.com</td>\n",
       "      <td>web</td>\n",
       "    </tr>\n",
       "    <tr>\n",
       "      <th>1</th>\n",
       "      <td>Bob</td>\n",
       "      <td>bob@example.com</td>\n",
       "      <td>web</td>\n",
       "    </tr>\n",
       "    <tr>\n",
       "      <th>2</th>\n",
       "      <td>Charlie</td>\n",
       "      <td>charlie@app.com</td>\n",
       "      <td>app</td>\n",
       "    </tr>\n",
       "    <tr>\n",
       "      <th>3</th>\n",
       "      <td>Diana</td>\n",
       "      <td>diana@app.com</td>\n",
       "      <td>app</td>\n",
       "    </tr>\n",
       "    <tr>\n",
       "      <th>4</th>\n",
       "      <td>Eve</td>\n",
       "      <td>eve@event.com</td>\n",
       "      <td>event</td>\n",
       "    </tr>\n",
       "  </tbody>\n",
       "</table>\n",
       "</div>"
      ],
      "text/plain": [
       "      name              email source\n",
       "0    Alice  alice@example.com    web\n",
       "1      Bob    bob@example.com    web\n",
       "2  Charlie    charlie@app.com    app\n",
       "3    Diana      diana@app.com    app\n",
       "4      Eve      eve@event.com  event"
      ]
     },
     "execution_count": 3,
     "metadata": {},
     "output_type": "execute_result"
    }
   ],
   "source": [
    "#create one dataframe:\n",
    "#since we're stacking rows and not adding columns at the sides, use pd.concat()\n",
    "df = pd.concat([contacts_web, contacts_app, contacts_event], ignore_index = True)\n",
    "df"
   ]
  },
  {
   "cell_type": "code",
   "execution_count": 4,
   "id": "f928e223",
   "metadata": {
    "execution": {
     "iopub.execute_input": "2025-09-05T11:42:43.051935Z",
     "iopub.status.busy": "2025-09-05T11:42:43.051492Z",
     "iopub.status.idle": "2025-09-05T11:42:43.064818Z",
     "shell.execute_reply": "2025-09-05T11:42:43.063724Z"
    },
    "papermill": {
     "duration": 0.019731,
     "end_time": "2025-09-05T11:42:43.066607",
     "exception": false,
     "start_time": "2025-09-05T11:42:43.046876",
     "status": "completed"
    },
    "tags": []
   },
   "outputs": [
    {
     "name": "stdout",
     "output_type": "stream",
     "text": [
      "The number of uniqe contacts in web is: 2\n"
     ]
    }
   ],
   "source": [
    "#the number of unique contacts for web:\n",
    "unique_contact = len(df[df['source'] == 'web'].email.unique())\n",
    "print(f\"The number of uniqe contacts in web is: {unique_contact}\")"
   ]
  },
  {
   "cell_type": "code",
   "execution_count": 5,
   "id": "7e34b50b",
   "metadata": {
    "execution": {
     "iopub.execute_input": "2025-09-05T11:42:43.075355Z",
     "iopub.status.busy": "2025-09-05T11:42:43.075092Z",
     "iopub.status.idle": "2025-09-05T11:42:43.080189Z",
     "shell.execute_reply": "2025-09-05T11:42:43.079291Z"
    },
    "papermill": {
     "duration": 0.010789,
     "end_time": "2025-09-05T11:42:43.081916",
     "exception": false,
     "start_time": "2025-09-05T11:42:43.071127",
     "status": "completed"
    },
    "tags": []
   },
   "outputs": [],
   "source": [
    "#are there duplicated emails? If there are, get the first one and sort by \"name\":\n",
    "#create a function that does that:\n",
    "def duplicated_emails(df):\n",
    "    num_of_duplicated_emails = df.email.duplicated().sum()\n",
    "    if num_of_duplicated_emails == 0:\n",
    "        print(f\"The number of duplicated emails is: {num_of_duplicated_emails}\")\n",
    "    else:\n",
    "        return df.drop_duplicates(subset = ['email']).sort_values(by = 'name')"
   ]
  },
  {
   "cell_type": "code",
   "execution_count": 6,
   "id": "824e8fce",
   "metadata": {
    "execution": {
     "iopub.execute_input": "2025-09-05T11:42:43.089211Z",
     "iopub.status.busy": "2025-09-05T11:42:43.088511Z",
     "iopub.status.idle": "2025-09-05T11:42:43.097191Z",
     "shell.execute_reply": "2025-09-05T11:42:43.095493Z"
    },
    "papermill": {
     "duration": 0.014752,
     "end_time": "2025-09-05T11:42:43.099577",
     "exception": false,
     "start_time": "2025-09-05T11:42:43.084825",
     "status": "completed"
    },
    "tags": []
   },
   "outputs": [
    {
     "name": "stdout",
     "output_type": "stream",
     "text": [
      "The number of duplicated emails is: 0\n"
     ]
    }
   ],
   "source": [
    "#apply that function:\n",
    "checked_df = duplicated_emails(df)\n",
    "checked_df"
   ]
  },
  {
   "cell_type": "markdown",
   "id": "fc6ebd5d",
   "metadata": {
    "papermill": {
     "duration": 0.003859,
     "end_time": "2025-09-05T11:42:43.107890",
     "exception": false,
     "start_time": "2025-09-05T11:42:43.104031",
     "status": "completed"
    },
    "tags": []
   },
   "source": [
    "Let's check if the function works when duplicates are present:"
   ]
  },
  {
   "cell_type": "code",
   "execution_count": 7,
   "id": "8781700f",
   "metadata": {
    "execution": {
     "iopub.execute_input": "2025-09-05T11:42:43.116467Z",
     "iopub.status.busy": "2025-09-05T11:42:43.116138Z",
     "iopub.status.idle": "2025-09-05T11:42:43.127632Z",
     "shell.execute_reply": "2025-09-05T11:42:43.126894Z"
    },
    "papermill": {
     "duration": 0.016337,
     "end_time": "2025-09-05T11:42:43.128997",
     "exception": false,
     "start_time": "2025-09-05T11:42:43.112660",
     "status": "completed"
    },
    "tags": []
   },
   "outputs": [
    {
     "data": {
      "text/html": [
       "<div>\n",
       "<style scoped>\n",
       "    .dataframe tbody tr th:only-of-type {\n",
       "        vertical-align: middle;\n",
       "    }\n",
       "\n",
       "    .dataframe tbody tr th {\n",
       "        vertical-align: top;\n",
       "    }\n",
       "\n",
       "    .dataframe thead th {\n",
       "        text-align: right;\n",
       "    }\n",
       "</style>\n",
       "<table border=\"1\" class=\"dataframe\">\n",
       "  <thead>\n",
       "    <tr style=\"text-align: right;\">\n",
       "      <th></th>\n",
       "      <th>name</th>\n",
       "      <th>email</th>\n",
       "      <th>source</th>\n",
       "    </tr>\n",
       "  </thead>\n",
       "  <tbody>\n",
       "    <tr>\n",
       "      <th>0</th>\n",
       "      <td>Alice</td>\n",
       "      <td>bob@example.com</td>\n",
       "      <td>web</td>\n",
       "    </tr>\n",
       "    <tr>\n",
       "      <th>2</th>\n",
       "      <td>Charlie</td>\n",
       "      <td>charlie@app.com</td>\n",
       "      <td>app</td>\n",
       "    </tr>\n",
       "    <tr>\n",
       "      <th>3</th>\n",
       "      <td>Diana</td>\n",
       "      <td>diana@app.com</td>\n",
       "      <td>app</td>\n",
       "    </tr>\n",
       "    <tr>\n",
       "      <th>4</th>\n",
       "      <td>Eve</td>\n",
       "      <td>eve@event.com</td>\n",
       "      <td>event</td>\n",
       "    </tr>\n",
       "  </tbody>\n",
       "</table>\n",
       "</div>"
      ],
      "text/plain": [
       "      name            email source\n",
       "0    Alice  bob@example.com    web\n",
       "2  Charlie  charlie@app.com    app\n",
       "3    Diana    diana@app.com    app\n",
       "4      Eve    eve@event.com  event"
      ]
     },
     "execution_count": 7,
     "metadata": {},
     "output_type": "execute_result"
    }
   ],
   "source": [
    "test_df = pd.concat([contacts_web, contacts_app, contacts_event], ignore_index = True)\n",
    "test_df.iloc[0, 1] = 'bob@example.com'\n",
    "checked_test_df = duplicated_emails(test_df)\n",
    "checked_test_df"
   ]
  },
  {
   "cell_type": "markdown",
   "id": "5fc4dea1",
   "metadata": {
    "papermill": {
     "duration": 0.003071,
     "end_time": "2025-09-05T11:42:43.135174",
     "exception": false,
     "start_time": "2025-09-05T11:42:43.132103",
     "status": "completed"
    },
    "tags": []
   },
   "source": [
    "It works!"
   ]
  },
  {
   "cell_type": "code",
   "execution_count": 8,
   "id": "64f7c7e6",
   "metadata": {
    "execution": {
     "iopub.execute_input": "2025-09-05T11:42:43.141864Z",
     "iopub.status.busy": "2025-09-05T11:42:43.141544Z",
     "iopub.status.idle": "2025-09-05T11:42:43.152508Z",
     "shell.execute_reply": "2025-09-05T11:42:43.151616Z"
    },
    "papermill": {
     "duration": 0.015963,
     "end_time": "2025-09-05T11:42:43.153891",
     "exception": false,
     "start_time": "2025-09-05T11:42:43.137928",
     "status": "completed"
    },
    "tags": []
   },
   "outputs": [
    {
     "data": {
      "text/html": [
       "<div>\n",
       "<style scoped>\n",
       "    .dataframe tbody tr th:only-of-type {\n",
       "        vertical-align: middle;\n",
       "    }\n",
       "\n",
       "    .dataframe tbody tr th {\n",
       "        vertical-align: top;\n",
       "    }\n",
       "\n",
       "    .dataframe thead th {\n",
       "        text-align: right;\n",
       "    }\n",
       "</style>\n",
       "<table border=\"1\" class=\"dataframe\">\n",
       "  <thead>\n",
       "    <tr style=\"text-align: right;\">\n",
       "      <th></th>\n",
       "      <th>name</th>\n",
       "      <th>email</th>\n",
       "      <th>source</th>\n",
       "      <th>created_at</th>\n",
       "    </tr>\n",
       "  </thead>\n",
       "  <tbody>\n",
       "    <tr>\n",
       "      <th>0</th>\n",
       "      <td>Alice</td>\n",
       "      <td>alice@example.com</td>\n",
       "      <td>web</td>\n",
       "      <td>2025-09-05 11:42:43</td>\n",
       "    </tr>\n",
       "    <tr>\n",
       "      <th>1</th>\n",
       "      <td>Bob</td>\n",
       "      <td>bob@example.com</td>\n",
       "      <td>web</td>\n",
       "      <td>2025-09-05 11:42:43</td>\n",
       "    </tr>\n",
       "    <tr>\n",
       "      <th>2</th>\n",
       "      <td>Charlie</td>\n",
       "      <td>charlie@app.com</td>\n",
       "      <td>app</td>\n",
       "      <td>2025-09-05 11:42:43</td>\n",
       "    </tr>\n",
       "    <tr>\n",
       "      <th>3</th>\n",
       "      <td>Diana</td>\n",
       "      <td>diana@app.com</td>\n",
       "      <td>app</td>\n",
       "      <td>2025-09-05 11:42:43</td>\n",
       "    </tr>\n",
       "    <tr>\n",
       "      <th>4</th>\n",
       "      <td>Eve</td>\n",
       "      <td>eve@event.com</td>\n",
       "      <td>event</td>\n",
       "      <td>2025-09-05 11:42:43</td>\n",
       "    </tr>\n",
       "  </tbody>\n",
       "</table>\n",
       "</div>"
      ],
      "text/plain": [
       "      name              email source           created_at\n",
       "0    Alice  alice@example.com    web  2025-09-05 11:42:43\n",
       "1      Bob    bob@example.com    web  2025-09-05 11:42:43\n",
       "2  Charlie    charlie@app.com    app  2025-09-05 11:42:43\n",
       "3    Diana      diana@app.com    app  2025-09-05 11:42:43\n",
       "4      Eve      eve@event.com  event  2025-09-05 11:42:43"
      ]
     },
     "execution_count": 8,
     "metadata": {},
     "output_type": "execute_result"
    }
   ],
   "source": [
    "#add a column \"created_at\" with a current date, identical for each row:\n",
    "df['created_at'] = pd.Timestamp.now().strftime('%Y-%m-%d %H:%M:%S')\n",
    "df"
   ]
  },
  {
   "cell_type": "code",
   "execution_count": 9,
   "id": "a821a6f3",
   "metadata": {
    "execution": {
     "iopub.execute_input": "2025-09-05T11:42:43.161013Z",
     "iopub.status.busy": "2025-09-05T11:42:43.160731Z",
     "iopub.status.idle": "2025-09-05T11:42:43.170010Z",
     "shell.execute_reply": "2025-09-05T11:42:43.169190Z"
    },
    "papermill": {
     "duration": 0.01423,
     "end_time": "2025-09-05T11:42:43.171250",
     "exception": false,
     "start_time": "2025-09-05T11:42:43.157020",
     "status": "completed"
    },
    "tags": []
   },
   "outputs": [
    {
     "data": {
      "text/plain": [
       "{'app': 2, 'event': 1, 'web': 2}"
      ]
     },
     "execution_count": 9,
     "metadata": {},
     "output_type": "execute_result"
    }
   ],
   "source": [
    "#group source and show how many clients each channel brought:\n",
    "#first, create a dict where key is channel, number is value\n",
    "series = df.groupby('source')['name'].count()\n",
    "source_dict = {}\n",
    "for key, value in series.items():\n",
    "    source_dict[key] = value\n",
    "\n",
    "source_dict"
   ]
  },
  {
   "cell_type": "code",
   "execution_count": 10,
   "id": "52b592bb",
   "metadata": {
    "execution": {
     "iopub.execute_input": "2025-09-05T11:42:43.178559Z",
     "iopub.status.busy": "2025-09-05T11:42:43.178263Z",
     "iopub.status.idle": "2025-09-05T11:42:43.182912Z",
     "shell.execute_reply": "2025-09-05T11:42:43.182242Z"
    },
    "papermill": {
     "duration": 0.009704,
     "end_time": "2025-09-05T11:42:43.184217",
     "exception": false,
     "start_time": "2025-09-05T11:42:43.174513",
     "status": "completed"
    },
    "tags": []
   },
   "outputs": [
    {
     "name": "stdout",
     "output_type": "stream",
     "text": [
      "The channel 'app' brought: 2 clients\n",
      "The channel 'event' brought: 1 client\n",
      "The channel 'web' brought: 2 clients\n"
     ]
    }
   ],
   "source": [
    "#print the dict:\n",
    "for k, v in source_dict.items():\n",
    "    if v == 1:\n",
    "        print(f\"The channel '{k}' brought: {v} client\")\n",
    "    else:\n",
    "        print(f\"The channel '{k}' brought: {v} clients\")"
   ]
  }
 ],
 "metadata": {
  "kaggle": {
   "accelerator": "none",
   "dataSources": [],
   "dockerImageVersionId": 31089,
   "isGpuEnabled": false,
   "isInternetEnabled": true,
   "language": "python",
   "sourceType": "notebook"
  },
  "kernelspec": {
   "display_name": "Python 3",
   "language": "python",
   "name": "python3"
  },
  "language_info": {
   "codemirror_mode": {
    "name": "ipython",
    "version": 3
   },
   "file_extension": ".py",
   "mimetype": "text/x-python",
   "name": "python",
   "nbconvert_exporter": "python",
   "pygments_lexer": "ipython3",
   "version": "3.11.13"
  },
  "papermill": {
   "default_parameters": {},
   "duration": 7.500115,
   "end_time": "2025-09-05T11:42:43.705976",
   "environment_variables": {},
   "exception": null,
   "input_path": "__notebook__.ipynb",
   "output_path": "__notebook__.ipynb",
   "parameters": {},
   "start_time": "2025-09-05T11:42:36.205861",
   "version": "2.6.0"
  }
 },
 "nbformat": 4,
 "nbformat_minor": 5
}
