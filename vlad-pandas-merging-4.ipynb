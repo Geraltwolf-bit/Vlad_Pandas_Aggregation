{
 "cells": [
  {
   "cell_type": "code",
   "execution_count": 1,
   "id": "4cef36ed",
   "metadata": {
    "_cell_guid": "b1076dfc-b9ad-4769-8c92-a6c4dae69d19",
    "_uuid": "8f2839f25d086af736a60e9eeb907d3b93b6e0e5",
    "execution": {
     "iopub.execute_input": "2025-09-05T15:24:50.886333Z",
     "iopub.status.busy": "2025-09-05T15:24:50.885966Z",
     "iopub.status.idle": "2025-09-05T15:24:52.827035Z",
     "shell.execute_reply": "2025-09-05T15:24:52.825906Z"
    },
    "papermill": {
     "duration": 1.947777,
     "end_time": "2025-09-05T15:24:52.828774",
     "exception": false,
     "start_time": "2025-09-05T15:24:50.880997",
     "status": "completed"
    },
    "tags": []
   },
   "outputs": [],
   "source": [
    "# This Python 3 environment comes with many helpful analytics libraries installed\n",
    "# It is defined by the kaggle/python Docker image: https://github.com/kaggle/docker-python\n",
    "# For example, here's several helpful packages to load\n",
    "\n",
    "import numpy as np # linear algebra\n",
    "import pandas as pd # data processing, CSV file I/O (e.g. pd.read_csv)\n",
    "\n",
    "# Input data files are available in the read-only \"../input/\" directory\n",
    "# For example, running this (by clicking run or pressing Shift+Enter) will list all files under the input directory\n",
    "\n",
    "import os\n",
    "for dirname, _, filenames in os.walk('/kaggle/input'):\n",
    "    for filename in filenames:\n",
    "        print(os.path.join(dirname, filename))\n",
    "\n",
    "# You can write up to 20GB to the current directory (/kaggle/working/) that gets preserved as output when you create a version using \"Save & Run All\" \n",
    "# You can also write temporary files to /kaggle/temp/, but they won't be saved outside of the current session"
   ]
  },
  {
   "cell_type": "code",
   "execution_count": 2,
   "id": "2c4d596a",
   "metadata": {
    "execution": {
     "iopub.execute_input": "2025-09-05T15:24:52.834213Z",
     "iopub.status.busy": "2025-09-05T15:24:52.833791Z",
     "iopub.status.idle": "2025-09-05T15:24:52.843127Z",
     "shell.execute_reply": "2025-09-05T15:24:52.842206Z"
    },
    "papermill": {
     "duration": 0.013595,
     "end_time": "2025-09-05T15:24:52.844540",
     "exception": false,
     "start_time": "2025-09-05T15:24:52.830945",
     "status": "completed"
    },
    "tags": []
   },
   "outputs": [],
   "source": [
    "#main dataset with users and status\n",
    "logs_main = pd.DataFrame({\n",
    "    'username': ['alice', 'bob', 'charlie'],\n",
    "    'last_action': ['2025-05-28 10:00', '2025-05-27 09:30', '2025-05-26 15:45'],\n",
    "    'status': ['active', 'inactive', 'active']\n",
    "}, index=[101, 102, 103])  # user_id\n",
    "\n",
    "# updates\n",
    "logs_update = pd.DataFrame({\n",
    "    'last_action': ['2025-06-01 12:00', None, '2025-06-01 16:30'],\n",
    "    'status': ['active', 'active', None]\n",
    "}, index=[101, 102, 103])"
   ]
  },
  {
   "cell_type": "markdown",
   "id": "09a2f042",
   "metadata": {
    "papermill": {
     "duration": 0.001537,
     "end_time": "2025-09-05T15:24:52.848043",
     "exception": false,
     "start_time": "2025-09-05T15:24:52.846506",
     "status": "completed"
    },
    "tags": []
   },
   "source": [
    "Update logs_main and describe how it works."
   ]
  },
  {
   "cell_type": "code",
   "execution_count": 3,
   "id": "6d58ceb7",
   "metadata": {
    "execution": {
     "iopub.execute_input": "2025-09-05T15:24:52.852811Z",
     "iopub.status.busy": "2025-09-05T15:24:52.852484Z",
     "iopub.status.idle": "2025-09-05T15:24:52.891238Z",
     "shell.execute_reply": "2025-09-05T15:24:52.890207Z"
    },
    "papermill": {
     "duration": 0.043227,
     "end_time": "2025-09-05T15:24:52.892927",
     "exception": false,
     "start_time": "2025-09-05T15:24:52.849700",
     "status": "completed"
    },
    "tags": []
   },
   "outputs": [
    {
     "data": {
      "text/html": [
       "<div>\n",
       "<style scoped>\n",
       "    .dataframe tbody tr th:only-of-type {\n",
       "        vertical-align: middle;\n",
       "    }\n",
       "\n",
       "    .dataframe tbody tr th {\n",
       "        vertical-align: top;\n",
       "    }\n",
       "\n",
       "    .dataframe thead th {\n",
       "        text-align: right;\n",
       "    }\n",
       "</style>\n",
       "<table border=\"1\" class=\"dataframe\">\n",
       "  <thead>\n",
       "    <tr style=\"text-align: right;\">\n",
       "      <th></th>\n",
       "      <th>username</th>\n",
       "      <th>last_action</th>\n",
       "      <th>status</th>\n",
       "    </tr>\n",
       "  </thead>\n",
       "  <tbody>\n",
       "    <tr>\n",
       "      <th>101</th>\n",
       "      <td>alice</td>\n",
       "      <td>2025-06-01 12:00</td>\n",
       "      <td>active</td>\n",
       "    </tr>\n",
       "    <tr>\n",
       "      <th>102</th>\n",
       "      <td>bob</td>\n",
       "      <td>2025-05-27 09:30</td>\n",
       "      <td>active</td>\n",
       "    </tr>\n",
       "    <tr>\n",
       "      <th>103</th>\n",
       "      <td>charlie</td>\n",
       "      <td>2025-06-01 16:30</td>\n",
       "      <td>active</td>\n",
       "    </tr>\n",
       "  </tbody>\n",
       "</table>\n",
       "</div>"
      ],
      "text/plain": [
       "    username       last_action  status\n",
       "101    alice  2025-06-01 12:00  active\n",
       "102      bob  2025-05-27 09:30  active\n",
       "103  charlie  2025-06-01 16:30  active"
      ]
     },
     "execution_count": 3,
     "metadata": {},
     "output_type": "execute_result"
    }
   ],
   "source": [
    "df = logs_main.copy()\n",
    "df.update(logs_update)\n",
    "df"
   ]
  },
  {
   "cell_type": "markdown",
   "id": "73ae72d9",
   "metadata": {
    "papermill": {
     "duration": 0.001591,
     "end_time": "2025-09-05T15:24:52.896623",
     "exception": false,
     "start_time": "2025-09-05T15:24:52.895032",
     "status": "completed"
    },
    "tags": []
   },
   "source": [
    "The method update() modifies the original dataset (in my case, \"df\") in place by pulling values from the dataset passed as an argument.\n",
    "\n",
    "Nans in the argument dataset don't overwrite the existing values"
   ]
  }
 ],
 "metadata": {
  "kaggle": {
   "accelerator": "none",
   "dataSources": [],
   "dockerImageVersionId": 31089,
   "isGpuEnabled": false,
   "isInternetEnabled": true,
   "language": "python",
   "sourceType": "notebook"
  },
  "kernelspec": {
   "display_name": "Python 3",
   "language": "python",
   "name": "python3"
  },
  "language_info": {
   "codemirror_mode": {
    "name": "ipython",
    "version": 3
   },
   "file_extension": ".py",
   "mimetype": "text/x-python",
   "name": "python",
   "nbconvert_exporter": "python",
   "pygments_lexer": "ipython3",
   "version": "3.11.13"
  },
  "papermill": {
   "default_parameters": {},
   "duration": 7.889464,
   "end_time": "2025-09-05T15:24:53.418488",
   "environment_variables": {},
   "exception": null,
   "input_path": "__notebook__.ipynb",
   "output_path": "__notebook__.ipynb",
   "parameters": {},
   "start_time": "2025-09-05T15:24:45.529024",
   "version": "2.6.0"
  }
 },
 "nbformat": 4,
 "nbformat_minor": 5
}
