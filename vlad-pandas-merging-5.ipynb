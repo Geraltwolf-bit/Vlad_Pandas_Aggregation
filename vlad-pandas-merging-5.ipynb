{
 "cells": [
  {
   "cell_type": "code",
   "execution_count": 1,
   "id": "566e9afa",
   "metadata": {
    "_cell_guid": "b1076dfc-b9ad-4769-8c92-a6c4dae69d19",
    "_uuid": "8f2839f25d086af736a60e9eeb907d3b93b6e0e5",
    "execution": {
     "iopub.execute_input": "2025-09-05T17:36:21.807243Z",
     "iopub.status.busy": "2025-09-05T17:36:21.806845Z",
     "iopub.status.idle": "2025-09-05T17:36:23.892626Z",
     "shell.execute_reply": "2025-09-05T17:36:23.891539Z"
    },
    "papermill": {
     "duration": 2.093146,
     "end_time": "2025-09-05T17:36:23.895039",
     "exception": false,
     "start_time": "2025-09-05T17:36:21.801893",
     "status": "completed"
    },
    "tags": []
   },
   "outputs": [],
   "source": [
    "# This Python 3 environment comes with many helpful analytics libraries installed\n",
    "# It is defined by the kaggle/python Docker image: https://github.com/kaggle/docker-python\n",
    "# For example, here's several helpful packages to load\n",
    "\n",
    "import numpy as np # linear algebra\n",
    "import pandas as pd # data processing, CSV file I/O (e.g. pd.read_csv)\n",
    "\n",
    "# Input data files are available in the read-only \"../input/\" directory\n",
    "# For example, running this (by clicking run or pressing Shift+Enter) will list all files under the input directory\n",
    "\n",
    "import os\n",
    "for dirname, _, filenames in os.walk('/kaggle/input'):\n",
    "    for filename in filenames:\n",
    "        print(os.path.join(dirname, filename))\n",
    "\n",
    "# You can write up to 20GB to the current directory (/kaggle/working/) that gets preserved as output when you create a version using \"Save & Run All\" \n",
    "# You can also write temporary files to /kaggle/temp/, but they won't be saved outside of the current session"
   ]
  },
  {
   "cell_type": "code",
   "execution_count": 2,
   "id": "de6dcea1",
   "metadata": {
    "execution": {
     "iopub.execute_input": "2025-09-05T17:36:23.902934Z",
     "iopub.status.busy": "2025-09-05T17:36:23.902506Z",
     "iopub.status.idle": "2025-09-05T17:36:23.914879Z",
     "shell.execute_reply": "2025-09-05T17:36:23.914008Z"
    },
    "papermill": {
     "duration": 0.018048,
     "end_time": "2025-09-05T17:36:23.916577",
     "exception": false,
     "start_time": "2025-09-05T17:36:23.898529",
     "status": "completed"
    },
    "tags": []
   },
   "outputs": [],
   "source": [
    "sales = pd.DataFrame({\n",
    "    'id': [101, 102, 103, 104, 105],\n",
    "    'client_id': [1, 2, 1, 3, 3],\n",
    "    'item': ['TechBook Pro 15', 'ViewMax 24HD', 'KeyPro MX', 'TechBook Air', 'ClickOne Mini'],\n",
    "    'price': [1200, 999, 599, 1500, 99]\n",
    "})\n",
    "\n",
    "clients = pd.DataFrame({\n",
    "    'client_id': [1, 2, 3, 4, 5],\n",
    "    'client_name': ['John', 'Sergio', 'Michael', 'Eve', 'Dorian'],\n",
    "    'city_id': [10, 11, 10, 11, 10]\n",
    "})\n",
    "\n",
    "cities = pd.DataFrame({\n",
    "    'city_id': [10, 11],\n",
    "    'city_name': ['Chicago', 'Washington']\n",
    "})"
   ]
  },
  {
   "cell_type": "code",
   "execution_count": 3,
   "id": "7346fa3d",
   "metadata": {
    "execution": {
     "iopub.execute_input": "2025-09-05T17:36:23.923577Z",
     "iopub.status.busy": "2025-09-05T17:36:23.923216Z",
     "iopub.status.idle": "2025-09-05T17:36:23.982535Z",
     "shell.execute_reply": "2025-09-05T17:36:23.981463Z"
    },
    "papermill": {
     "duration": 0.064574,
     "end_time": "2025-09-05T17:36:23.984097",
     "exception": false,
     "start_time": "2025-09-05T17:36:23.919523",
     "status": "completed"
    },
    "tags": []
   },
   "outputs": [
    {
     "name": "stderr",
     "output_type": "stream",
     "text": [
      "/usr/local/lib/python3.11/dist-packages/pandas/io/formats/format.py:1458: RuntimeWarning: invalid value encountered in greater\n",
      "  has_large_values = (abs_vals > 1e6).any()\n",
      "/usr/local/lib/python3.11/dist-packages/pandas/io/formats/format.py:1459: RuntimeWarning: invalid value encountered in less\n",
      "  has_small_values = ((abs_vals < 10 ** (-self.digits)) & (abs_vals > 0)).any()\n",
      "/usr/local/lib/python3.11/dist-packages/pandas/io/formats/format.py:1459: RuntimeWarning: invalid value encountered in greater\n",
      "  has_small_values = ((abs_vals < 10 ** (-self.digits)) & (abs_vals > 0)).any()\n"
     ]
    },
    {
     "data": {
      "text/html": [
       "<div>\n",
       "<style scoped>\n",
       "    .dataframe tbody tr th:only-of-type {\n",
       "        vertical-align: middle;\n",
       "    }\n",
       "\n",
       "    .dataframe tbody tr th {\n",
       "        vertical-align: top;\n",
       "    }\n",
       "\n",
       "    .dataframe thead th {\n",
       "        text-align: right;\n",
       "    }\n",
       "</style>\n",
       "<table border=\"1\" class=\"dataframe\">\n",
       "  <thead>\n",
       "    <tr style=\"text-align: right;\">\n",
       "      <th></th>\n",
       "      <th>id</th>\n",
       "      <th>client_id</th>\n",
       "      <th>item</th>\n",
       "      <th>price</th>\n",
       "      <th>client_name</th>\n",
       "      <th>city_id</th>\n",
       "      <th>city_name</th>\n",
       "    </tr>\n",
       "  </thead>\n",
       "  <tbody>\n",
       "    <tr>\n",
       "      <th>0</th>\n",
       "      <td>101.0</td>\n",
       "      <td>1</td>\n",
       "      <td>TechBook Pro 15</td>\n",
       "      <td>1200.0</td>\n",
       "      <td>John</td>\n",
       "      <td>10</td>\n",
       "      <td>Chicago</td>\n",
       "    </tr>\n",
       "    <tr>\n",
       "      <th>1</th>\n",
       "      <td>103.0</td>\n",
       "      <td>1</td>\n",
       "      <td>KeyPro MX</td>\n",
       "      <td>599.0</td>\n",
       "      <td>John</td>\n",
       "      <td>10</td>\n",
       "      <td>Chicago</td>\n",
       "    </tr>\n",
       "    <tr>\n",
       "      <th>2</th>\n",
       "      <td>104.0</td>\n",
       "      <td>3</td>\n",
       "      <td>TechBook Air</td>\n",
       "      <td>1500.0</td>\n",
       "      <td>Michael</td>\n",
       "      <td>10</td>\n",
       "      <td>Chicago</td>\n",
       "    </tr>\n",
       "    <tr>\n",
       "      <th>3</th>\n",
       "      <td>105.0</td>\n",
       "      <td>3</td>\n",
       "      <td>ClickOne Mini</td>\n",
       "      <td>99.0</td>\n",
       "      <td>Michael</td>\n",
       "      <td>10</td>\n",
       "      <td>Chicago</td>\n",
       "    </tr>\n",
       "    <tr>\n",
       "      <th>4</th>\n",
       "      <td>NaN</td>\n",
       "      <td>5</td>\n",
       "      <td>NaN</td>\n",
       "      <td>NaN</td>\n",
       "      <td>Dorian</td>\n",
       "      <td>10</td>\n",
       "      <td>Chicago</td>\n",
       "    </tr>\n",
       "    <tr>\n",
       "      <th>5</th>\n",
       "      <td>102.0</td>\n",
       "      <td>2</td>\n",
       "      <td>ViewMax 24HD</td>\n",
       "      <td>999.0</td>\n",
       "      <td>Sergio</td>\n",
       "      <td>11</td>\n",
       "      <td>Washington</td>\n",
       "    </tr>\n",
       "    <tr>\n",
       "      <th>6</th>\n",
       "      <td>NaN</td>\n",
       "      <td>4</td>\n",
       "      <td>NaN</td>\n",
       "      <td>NaN</td>\n",
       "      <td>Eve</td>\n",
       "      <td>11</td>\n",
       "      <td>Washington</td>\n",
       "    </tr>\n",
       "  </tbody>\n",
       "</table>\n",
       "</div>"
      ],
      "text/plain": [
       "      id  client_id             item   price client_name  city_id   city_name\n",
       "0  101.0          1  TechBook Pro 15  1200.0        John       10     Chicago\n",
       "1  103.0          1        KeyPro MX   599.0        John       10     Chicago\n",
       "2  104.0          3     TechBook Air  1500.0     Michael       10     Chicago\n",
       "3  105.0          3    ClickOne Mini    99.0     Michael       10     Chicago\n",
       "4    NaN          5              NaN     NaN      Dorian       10     Chicago\n",
       "5  102.0          2     ViewMax 24HD   999.0      Sergio       11  Washington\n",
       "6    NaN          4              NaN     NaN         Eve       11  Washington"
      ]
     },
     "execution_count": 3,
     "metadata": {},
     "output_type": "execute_result"
    }
   ],
   "source": [
    "df = sales.merge(clients, on = 'client_id', how = 'outer')\n",
    "df = df.merge(cities, on = 'city_id', how = 'outer')\n",
    "df"
   ]
  },
  {
   "cell_type": "code",
   "execution_count": 4,
   "id": "f3ee1194",
   "metadata": {
    "execution": {
     "iopub.execute_input": "2025-09-05T17:36:23.992673Z",
     "iopub.status.busy": "2025-09-05T17:36:23.991524Z",
     "iopub.status.idle": "2025-09-05T17:36:24.003134Z",
     "shell.execute_reply": "2025-09-05T17:36:24.002185Z"
    },
    "papermill": {
     "duration": 0.017517,
     "end_time": "2025-09-05T17:36:24.004891",
     "exception": false,
     "start_time": "2025-09-05T17:36:23.987374",
     "status": "completed"
    },
    "tags": []
   },
   "outputs": [
    {
     "data": {
      "text/html": [
       "<div>\n",
       "<style scoped>\n",
       "    .dataframe tbody tr th:only-of-type {\n",
       "        vertical-align: middle;\n",
       "    }\n",
       "\n",
       "    .dataframe tbody tr th {\n",
       "        vertical-align: top;\n",
       "    }\n",
       "\n",
       "    .dataframe thead th {\n",
       "        text-align: right;\n",
       "    }\n",
       "</style>\n",
       "<table border=\"1\" class=\"dataframe\">\n",
       "  <thead>\n",
       "    <tr style=\"text-align: right;\">\n",
       "      <th></th>\n",
       "      <th>client_name</th>\n",
       "      <th>item</th>\n",
       "      <th>price</th>\n",
       "    </tr>\n",
       "  </thead>\n",
       "  <tbody>\n",
       "    <tr>\n",
       "      <th>0</th>\n",
       "      <td>John</td>\n",
       "      <td>TechBook Pro 15</td>\n",
       "      <td>1200.0</td>\n",
       "    </tr>\n",
       "    <tr>\n",
       "      <th>1</th>\n",
       "      <td>John</td>\n",
       "      <td>KeyPro MX</td>\n",
       "      <td>599.0</td>\n",
       "    </tr>\n",
       "    <tr>\n",
       "      <th>2</th>\n",
       "      <td>Michael</td>\n",
       "      <td>TechBook Air</td>\n",
       "      <td>1500.0</td>\n",
       "    </tr>\n",
       "    <tr>\n",
       "      <th>3</th>\n",
       "      <td>Michael</td>\n",
       "      <td>ClickOne Mini</td>\n",
       "      <td>99.0</td>\n",
       "    </tr>\n",
       "    <tr>\n",
       "      <th>5</th>\n",
       "      <td>Sergio</td>\n",
       "      <td>ViewMax 24HD</td>\n",
       "      <td>999.0</td>\n",
       "    </tr>\n",
       "  </tbody>\n",
       "</table>\n",
       "</div>"
      ],
      "text/plain": [
       "  client_name             item   price\n",
       "0        John  TechBook Pro 15  1200.0\n",
       "1        John        KeyPro MX   599.0\n",
       "2     Michael     TechBook Air  1500.0\n",
       "3     Michael    ClickOne Mini    99.0\n",
       "5      Sergio     ViewMax 24HD   999.0"
      ]
     },
     "execution_count": 4,
     "metadata": {},
     "output_type": "execute_result"
    }
   ],
   "source": [
    "show = df[['client_name', 'item', 'price']]\n",
    "show[~show['item'].isna()]"
   ]
  },
  {
   "cell_type": "code",
   "execution_count": 5,
   "id": "cd88a491",
   "metadata": {
    "execution": {
     "iopub.execute_input": "2025-09-05T17:36:24.012627Z",
     "iopub.status.busy": "2025-09-05T17:36:24.012270Z",
     "iopub.status.idle": "2025-09-05T17:36:24.018407Z",
     "shell.execute_reply": "2025-09-05T17:36:24.017374Z"
    },
    "papermill": {
     "duration": 0.011791,
     "end_time": "2025-09-05T17:36:24.019981",
     "exception": false,
     "start_time": "2025-09-05T17:36:24.008190",
     "status": "completed"
    },
    "tags": []
   },
   "outputs": [
    {
     "name": "stdout",
     "output_type": "stream",
     "text": [
      "Clients who didn't place order are: ['Dorian', 'Eve']\n"
     ]
    }
   ],
   "source": [
    "#show clients who didn't place order:\n",
    "print(f\"Clients who didn't place order are: {df.loc[df['item'].isna(), 'client_name'].tolist()}\")"
   ]
  },
  {
   "cell_type": "code",
   "execution_count": 6,
   "id": "2282deac",
   "metadata": {
    "execution": {
     "iopub.execute_input": "2025-09-05T17:36:24.027830Z",
     "iopub.status.busy": "2025-09-05T17:36:24.027522Z",
     "iopub.status.idle": "2025-09-05T17:36:24.038722Z",
     "shell.execute_reply": "2025-09-05T17:36:24.037863Z"
    },
    "papermill": {
     "duration": 0.017321,
     "end_time": "2025-09-05T17:36:24.040652",
     "exception": false,
     "start_time": "2025-09-05T17:36:24.023331",
     "status": "completed"
    },
    "tags": []
   },
   "outputs": [
    {
     "data": {
      "text/html": [
       "<div>\n",
       "<style scoped>\n",
       "    .dataframe tbody tr th:only-of-type {\n",
       "        vertical-align: middle;\n",
       "    }\n",
       "\n",
       "    .dataframe tbody tr th {\n",
       "        vertical-align: top;\n",
       "    }\n",
       "\n",
       "    .dataframe thead th {\n",
       "        text-align: right;\n",
       "    }\n",
       "</style>\n",
       "<table border=\"1\" class=\"dataframe\">\n",
       "  <thead>\n",
       "    <tr style=\"text-align: right;\">\n",
       "      <th></th>\n",
       "      <th>client_name</th>\n",
       "      <th>item</th>\n",
       "      <th>city_name</th>\n",
       "    </tr>\n",
       "  </thead>\n",
       "  <tbody>\n",
       "    <tr>\n",
       "      <th>0</th>\n",
       "      <td>John</td>\n",
       "      <td>TechBook Pro 15</td>\n",
       "      <td>Chicago</td>\n",
       "    </tr>\n",
       "    <tr>\n",
       "      <th>1</th>\n",
       "      <td>John</td>\n",
       "      <td>KeyPro MX</td>\n",
       "      <td>Chicago</td>\n",
       "    </tr>\n",
       "    <tr>\n",
       "      <th>2</th>\n",
       "      <td>Michael</td>\n",
       "      <td>TechBook Air</td>\n",
       "      <td>Chicago</td>\n",
       "    </tr>\n",
       "    <tr>\n",
       "      <th>3</th>\n",
       "      <td>Michael</td>\n",
       "      <td>ClickOne Mini</td>\n",
       "      <td>Chicago</td>\n",
       "    </tr>\n",
       "    <tr>\n",
       "      <th>5</th>\n",
       "      <td>Sergio</td>\n",
       "      <td>ViewMax 24HD</td>\n",
       "      <td>Washington</td>\n",
       "    </tr>\n",
       "  </tbody>\n",
       "</table>\n",
       "</div>"
      ],
      "text/plain": [
       "  client_name             item   city_name\n",
       "0        John  TechBook Pro 15     Chicago\n",
       "1        John        KeyPro MX     Chicago\n",
       "2     Michael     TechBook Air     Chicago\n",
       "3     Michael    ClickOne Mini     Chicago\n",
       "5      Sergio     ViewMax 24HD  Washington"
      ]
     },
     "execution_count": 6,
     "metadata": {},
     "output_type": "execute_result"
    }
   ],
   "source": [
    "#show client, item, city:\n",
    "s = df[['client_name', 'item', 'city_name']]\n",
    "s[~s['item'].isna()]"
   ]
  },
  {
   "cell_type": "code",
   "execution_count": 7,
   "id": "be607d71",
   "metadata": {
    "execution": {
     "iopub.execute_input": "2025-09-05T17:36:24.049117Z",
     "iopub.status.busy": "2025-09-05T17:36:24.048798Z",
     "iopub.status.idle": "2025-09-05T17:36:24.063261Z",
     "shell.execute_reply": "2025-09-05T17:36:24.062153Z"
    },
    "papermill": {
     "duration": 0.020655,
     "end_time": "2025-09-05T17:36:24.064916",
     "exception": false,
     "start_time": "2025-09-05T17:36:24.044261",
     "status": "completed"
    },
    "tags": []
   },
   "outputs": [
    {
     "name": "stderr",
     "output_type": "stream",
     "text": [
      "/usr/local/lib/python3.11/dist-packages/pandas/io/formats/format.py:1458: RuntimeWarning: invalid value encountered in greater\n",
      "  has_large_values = (abs_vals > 1e6).any()\n",
      "/usr/local/lib/python3.11/dist-packages/pandas/io/formats/format.py:1459: RuntimeWarning: invalid value encountered in less\n",
      "  has_small_values = ((abs_vals < 10 ** (-self.digits)) & (abs_vals > 0)).any()\n",
      "/usr/local/lib/python3.11/dist-packages/pandas/io/formats/format.py:1459: RuntimeWarning: invalid value encountered in greater\n",
      "  has_small_values = ((abs_vals < 10 ** (-self.digits)) & (abs_vals > 0)).any()\n"
     ]
    },
    {
     "data": {
      "text/html": [
       "<div>\n",
       "<style scoped>\n",
       "    .dataframe tbody tr th:only-of-type {\n",
       "        vertical-align: middle;\n",
       "    }\n",
       "\n",
       "    .dataframe tbody tr th {\n",
       "        vertical-align: top;\n",
       "    }\n",
       "\n",
       "    .dataframe thead th {\n",
       "        text-align: right;\n",
       "    }\n",
       "</style>\n",
       "<table border=\"1\" class=\"dataframe\">\n",
       "  <thead>\n",
       "    <tr style=\"text-align: right;\">\n",
       "      <th></th>\n",
       "      <th>id</th>\n",
       "      <th>client_id</th>\n",
       "      <th>item</th>\n",
       "      <th>price</th>\n",
       "      <th>client_name</th>\n",
       "      <th>city_id</th>\n",
       "      <th>city_name</th>\n",
       "    </tr>\n",
       "  </thead>\n",
       "  <tbody>\n",
       "    <tr>\n",
       "      <th>0</th>\n",
       "      <td>101.0</td>\n",
       "      <td>1</td>\n",
       "      <td>TechBook Pro 15</td>\n",
       "      <td>1200.0</td>\n",
       "      <td>John</td>\n",
       "      <td>10</td>\n",
       "      <td>Chicago</td>\n",
       "    </tr>\n",
       "    <tr>\n",
       "      <th>1</th>\n",
       "      <td>103.0</td>\n",
       "      <td>1</td>\n",
       "      <td>KeyPro MX</td>\n",
       "      <td>599.0</td>\n",
       "      <td>John</td>\n",
       "      <td>10</td>\n",
       "      <td>Chicago</td>\n",
       "    </tr>\n",
       "    <tr>\n",
       "      <th>2</th>\n",
       "      <td>104.0</td>\n",
       "      <td>3</td>\n",
       "      <td>TechBook Air</td>\n",
       "      <td>1500.0</td>\n",
       "      <td>Michael</td>\n",
       "      <td>10</td>\n",
       "      <td>Chicago</td>\n",
       "    </tr>\n",
       "    <tr>\n",
       "      <th>3</th>\n",
       "      <td>105.0</td>\n",
       "      <td>3</td>\n",
       "      <td>ClickOne Mini</td>\n",
       "      <td>99.0</td>\n",
       "      <td>Michael</td>\n",
       "      <td>10</td>\n",
       "      <td>Chicago</td>\n",
       "    </tr>\n",
       "    <tr>\n",
       "      <th>4</th>\n",
       "      <td>NaN</td>\n",
       "      <td>5</td>\n",
       "      <td>No order</td>\n",
       "      <td>NaN</td>\n",
       "      <td>Dorian</td>\n",
       "      <td>10</td>\n",
       "      <td>Chicago</td>\n",
       "    </tr>\n",
       "    <tr>\n",
       "      <th>5</th>\n",
       "      <td>102.0</td>\n",
       "      <td>2</td>\n",
       "      <td>ViewMax 24HD</td>\n",
       "      <td>999.0</td>\n",
       "      <td>Sergio</td>\n",
       "      <td>11</td>\n",
       "      <td>Washington</td>\n",
       "    </tr>\n",
       "    <tr>\n",
       "      <th>6</th>\n",
       "      <td>NaN</td>\n",
       "      <td>4</td>\n",
       "      <td>No order</td>\n",
       "      <td>NaN</td>\n",
       "      <td>Eve</td>\n",
       "      <td>11</td>\n",
       "      <td>Washington</td>\n",
       "    </tr>\n",
       "  </tbody>\n",
       "</table>\n",
       "</div>"
      ],
      "text/plain": [
       "      id  client_id             item   price client_name  city_id   city_name\n",
       "0  101.0          1  TechBook Pro 15  1200.0        John       10     Chicago\n",
       "1  103.0          1        KeyPro MX   599.0        John       10     Chicago\n",
       "2  104.0          3     TechBook Air  1500.0     Michael       10     Chicago\n",
       "3  105.0          3    ClickOne Mini    99.0     Michael       10     Chicago\n",
       "4    NaN          5         No order     NaN      Dorian       10     Chicago\n",
       "5  102.0          2     ViewMax 24HD   999.0      Sergio       11  Washington\n",
       "6    NaN          4         No order     NaN         Eve       11  Washington"
      ]
     },
     "execution_count": 7,
     "metadata": {},
     "output_type": "execute_result"
    }
   ],
   "source": [
    "#show what city has more orders:\n",
    "#let's replace nans in items with \"No order\":\n",
    "df['item'] = df['item'].fillna('No order')\n",
    "df"
   ]
  },
  {
   "cell_type": "code",
   "execution_count": 8,
   "id": "584cb0cb",
   "metadata": {
    "execution": {
     "iopub.execute_input": "2025-09-05T17:36:24.074206Z",
     "iopub.status.busy": "2025-09-05T17:36:24.073475Z",
     "iopub.status.idle": "2025-09-05T17:36:24.085450Z",
     "shell.execute_reply": "2025-09-05T17:36:24.084224Z"
    },
    "papermill": {
     "duration": 0.018706,
     "end_time": "2025-09-05T17:36:24.087408",
     "exception": false,
     "start_time": "2025-09-05T17:36:24.068702",
     "status": "completed"
    },
    "tags": []
   },
   "outputs": [
    {
     "data": {
      "text/plain": [
       "{'Chicago': 4, 'Washington': 1}"
      ]
     },
     "execution_count": 8,
     "metadata": {},
     "output_type": "execute_result"
    }
   ],
   "source": [
    "#create a dict where key is city_name, value is item and print the dict to make sure it worked:\n",
    "city_dict = {}\n",
    "city = df.groupby('city_name')['item'].apply(lambda x: (x != 'No order').sum())\n",
    "for key, value in city.items():\n",
    "    city_dict[key] = value\n",
    "city_dict"
   ]
  },
  {
   "cell_type": "code",
   "execution_count": 9,
   "id": "8c8559ee",
   "metadata": {
    "execution": {
     "iopub.execute_input": "2025-09-05T17:36:24.097062Z",
     "iopub.status.busy": "2025-09-05T17:36:24.096765Z",
     "iopub.status.idle": "2025-09-05T17:36:24.102011Z",
     "shell.execute_reply": "2025-09-05T17:36:24.101067Z"
    },
    "papermill": {
     "duration": 0.011784,
     "end_time": "2025-09-05T17:36:24.103542",
     "exception": false,
     "start_time": "2025-09-05T17:36:24.091758",
     "status": "completed"
    },
    "tags": []
   },
   "outputs": [
    {
     "name": "stdout",
     "output_type": "stream",
     "text": [
      "The city with the most orders is: Chicago\n"
     ]
    }
   ],
   "source": [
    "#the dict is created, now get the key that has the highest value\n",
    "max_city = max(city_dict, key = city_dict.get)\n",
    "print(f\"The city with the most orders is: {max_city}\")"
   ]
  },
  {
   "cell_type": "code",
   "execution_count": 10,
   "id": "5c1aa4ad",
   "metadata": {
    "execution": {
     "iopub.execute_input": "2025-09-05T17:36:24.112213Z",
     "iopub.status.busy": "2025-09-05T17:36:24.111907Z",
     "iopub.status.idle": "2025-09-05T17:36:24.121726Z",
     "shell.execute_reply": "2025-09-05T17:36:24.120485Z"
    },
    "papermill": {
     "duration": 0.016249,
     "end_time": "2025-09-05T17:36:24.123626",
     "exception": false,
     "start_time": "2025-09-05T17:36:24.107377",
     "status": "completed"
    },
    "tags": []
   },
   "outputs": [
    {
     "data": {
      "text/plain": [
       "{'Dorian': 0, 'Eve': 0, 'John': 2, 'Michael': 2, 'Sergio': 1}"
      ]
     },
     "execution_count": 10,
     "metadata": {},
     "output_type": "execute_result"
    }
   ],
   "source": [
    "#what client placed more orders:\n",
    "#the same approach: create a dict where key is a client, value is the number of order. Print the key with the highest value:\n",
    "dict_clients = {}\n",
    "client = df.groupby('client_name')['item'].apply(lambda x: (x != 'No order').sum())\n",
    "for k, v in client.items():\n",
    "    dict_clients[k] = v\n",
    "dict_clients"
   ]
  },
  {
   "cell_type": "markdown",
   "id": "cd0e5b2a",
   "metadata": {
    "papermill": {
     "duration": 0.003606,
     "end_time": "2025-09-05T17:36:24.131300",
     "exception": false,
     "start_time": "2025-09-05T17:36:24.127694",
     "status": "completed"
    },
    "tags": []
   },
   "source": [
    "And here, I realized that the same approach wouldn't work. There are several clients, so I'll have to create a dict, find the highest value, then initiate a list and append it with the keys linked to the highest value."
   ]
  },
  {
   "cell_type": "code",
   "execution_count": 11,
   "id": "a27f60af",
   "metadata": {
    "execution": {
     "iopub.execute_input": "2025-09-05T17:36:24.140888Z",
     "iopub.status.busy": "2025-09-05T17:36:24.139958Z",
     "iopub.status.idle": "2025-09-05T17:36:24.146488Z",
     "shell.execute_reply": "2025-09-05T17:36:24.145315Z"
    },
    "papermill": {
     "duration": 0.012978,
     "end_time": "2025-09-05T17:36:24.148102",
     "exception": false,
     "start_time": "2025-09-05T17:36:24.135124",
     "status": "completed"
    },
    "tags": []
   },
   "outputs": [
    {
     "name": "stdout",
     "output_type": "stream",
     "text": [
      "Clients who placed more orders are: ['John', 'Michael'].\n"
     ]
    }
   ],
   "source": [
    "highest_sales = max(dict_clients.values())\n",
    "max_clients = []\n",
    "for key, value in dict_clients.items():\n",
    "    if value == highest_sales:\n",
    "        max_clients.append(key)\n",
    "if len(max_clients) > 1:\n",
    "    print(f\"Clients who placed more orders are: {max_clients}.\")\n",
    "else:\n",
    "    print(f\"The client who placed more orders is: {max_clients}.\")"
   ]
  }
 ],
 "metadata": {
  "kaggle": {
   "accelerator": "none",
   "dataSources": [],
   "dockerImageVersionId": 31089,
   "isGpuEnabled": false,
   "isInternetEnabled": true,
   "language": "python",
   "sourceType": "notebook"
  },
  "kernelspec": {
   "display_name": "Python 3",
   "language": "python",
   "name": "python3"
  },
  "language_info": {
   "codemirror_mode": {
    "name": "ipython",
    "version": 3
   },
   "file_extension": ".py",
   "mimetype": "text/x-python",
   "name": "python",
   "nbconvert_exporter": "python",
   "pygments_lexer": "ipython3",
   "version": "3.11.13"
  },
  "papermill": {
   "default_parameters": {},
   "duration": 8.849396,
   "end_time": "2025-09-05T17:36:24.672437",
   "environment_variables": {},
   "exception": null,
   "input_path": "__notebook__.ipynb",
   "output_path": "__notebook__.ipynb",
   "parameters": {},
   "start_time": "2025-09-05T17:36:15.823041",
   "version": "2.6.0"
  }
 },
 "nbformat": 4,
 "nbformat_minor": 5
}
