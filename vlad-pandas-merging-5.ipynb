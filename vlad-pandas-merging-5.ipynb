{
 "cells": [
  {
   "cell_type": "code",
   "execution_count": 1,
   "id": "515404a8",
   "metadata": {
    "_cell_guid": "b1076dfc-b9ad-4769-8c92-a6c4dae69d19",
    "_uuid": "8f2839f25d086af736a60e9eeb907d3b93b6e0e5",
    "execution": {
     "iopub.execute_input": "2025-09-05T19:56:23.234118Z",
     "iopub.status.busy": "2025-09-05T19:56:23.233770Z",
     "iopub.status.idle": "2025-09-05T19:56:25.342505Z",
     "shell.execute_reply": "2025-09-05T19:56:25.341694Z"
    },
    "papermill": {
     "duration": 2.113678,
     "end_time": "2025-09-05T19:56:25.344154",
     "exception": false,
     "start_time": "2025-09-05T19:56:23.230476",
     "status": "completed"
    },
    "tags": []
   },
   "outputs": [],
   "source": [
    "# This Python 3 environment comes with many helpful analytics libraries installed\n",
    "# It is defined by the kaggle/python Docker image: https://github.com/kaggle/docker-python\n",
    "# For example, here's several helpful packages to load\n",
    "\n",
    "import numpy as np # linear algebra\n",
    "import pandas as pd # data processing, CSV file I/O (e.g. pd.read_csv)\n",
    "\n",
    "# Input data files are available in the read-only \"../input/\" directory\n",
    "# For example, running this (by clicking run or pressing Shift+Enter) will list all files under the input directory\n",
    "\n",
    "import os\n",
    "for dirname, _, filenames in os.walk('/kaggle/input'):\n",
    "    for filename in filenames:\n",
    "        print(os.path.join(dirname, filename))\n",
    "\n",
    "# You can write up to 20GB to the current directory (/kaggle/working/) that gets preserved as output when you create a version using \"Save & Run All\" \n",
    "# You can also write temporary files to /kaggle/temp/, but they won't be saved outside of the current session"
   ]
  },
  {
   "cell_type": "code",
   "execution_count": 2,
   "id": "7888fd76",
   "metadata": {
    "execution": {
     "iopub.execute_input": "2025-09-05T19:56:25.349154Z",
     "iopub.status.busy": "2025-09-05T19:56:25.348691Z",
     "iopub.status.idle": "2025-09-05T19:56:25.363620Z",
     "shell.execute_reply": "2025-09-05T19:56:25.362903Z"
    },
    "papermill": {
     "duration": 0.019174,
     "end_time": "2025-09-05T19:56:25.365225",
     "exception": false,
     "start_time": "2025-09-05T19:56:25.346051",
     "status": "completed"
    },
    "tags": []
   },
   "outputs": [],
   "source": [
    "timestamps = pd.to_datetime([\n",
    "    '2025-06-01 08:00',\n",
    "    '2025-06-01 10:00',\n",
    "    '2025-06-01 12:00',\n",
    "    '2025-06-01 14:00',\n",
    "    '2025-06-01 16:00'\n",
    "])\n",
    "\n",
    "temperature_df = pd.DataFrame({\n",
    "    'datetime': timestamps,\n",
    "    'temperature': [18.5, 20.1, 22.3, 23.8, 21.9]\n",
    "})\n",
    "\n",
    "humidity_df = pd.DataFrame({\n",
    "    'datetime': timestamps,\n",
    "    'humidity': [75, 68, 60, 55, 59]\n",
    "})\n",
    "\n",
    "pressure_df = pd.DataFrame({\n",
    "    'datetime': timestamps,\n",
    "    'pressure': [740, 790, 800, 799, 788]\n",
    "})"
   ]
  },
  {
   "cell_type": "code",
   "execution_count": 3,
   "id": "8e0a4b26",
   "metadata": {
    "execution": {
     "iopub.execute_input": "2025-09-05T19:56:25.369428Z",
     "iopub.status.busy": "2025-09-05T19:56:25.369104Z",
     "iopub.status.idle": "2025-09-05T19:56:25.420847Z",
     "shell.execute_reply": "2025-09-05T19:56:25.419897Z"
    },
    "papermill": {
     "duration": 0.055514,
     "end_time": "2025-09-05T19:56:25.422383",
     "exception": false,
     "start_time": "2025-09-05T19:56:25.366869",
     "status": "completed"
    },
    "tags": []
   },
   "outputs": [
    {
     "data": {
      "text/html": [
       "<div>\n",
       "<style scoped>\n",
       "    .dataframe tbody tr th:only-of-type {\n",
       "        vertical-align: middle;\n",
       "    }\n",
       "\n",
       "    .dataframe tbody tr th {\n",
       "        vertical-align: top;\n",
       "    }\n",
       "\n",
       "    .dataframe thead th {\n",
       "        text-align: right;\n",
       "    }\n",
       "</style>\n",
       "<table border=\"1\" class=\"dataframe\">\n",
       "  <thead>\n",
       "    <tr style=\"text-align: right;\">\n",
       "      <th></th>\n",
       "      <th>datetime</th>\n",
       "      <th>temperature</th>\n",
       "      <th>humidity</th>\n",
       "      <th>pressure</th>\n",
       "    </tr>\n",
       "  </thead>\n",
       "  <tbody>\n",
       "    <tr>\n",
       "      <th>0</th>\n",
       "      <td>2025-06-01 08:00:00</td>\n",
       "      <td>18.5</td>\n",
       "      <td>75</td>\n",
       "      <td>740</td>\n",
       "    </tr>\n",
       "    <tr>\n",
       "      <th>1</th>\n",
       "      <td>2025-06-01 10:00:00</td>\n",
       "      <td>20.1</td>\n",
       "      <td>68</td>\n",
       "      <td>790</td>\n",
       "    </tr>\n",
       "    <tr>\n",
       "      <th>2</th>\n",
       "      <td>2025-06-01 12:00:00</td>\n",
       "      <td>22.3</td>\n",
       "      <td>60</td>\n",
       "      <td>800</td>\n",
       "    </tr>\n",
       "    <tr>\n",
       "      <th>3</th>\n",
       "      <td>2025-06-01 14:00:00</td>\n",
       "      <td>23.8</td>\n",
       "      <td>55</td>\n",
       "      <td>799</td>\n",
       "    </tr>\n",
       "    <tr>\n",
       "      <th>4</th>\n",
       "      <td>2025-06-01 16:00:00</td>\n",
       "      <td>21.9</td>\n",
       "      <td>59</td>\n",
       "      <td>788</td>\n",
       "    </tr>\n",
       "  </tbody>\n",
       "</table>\n",
       "</div>"
      ],
      "text/plain": [
       "             datetime  temperature  humidity  pressure\n",
       "0 2025-06-01 08:00:00         18.5        75       740\n",
       "1 2025-06-01 10:00:00         20.1        68       790\n",
       "2 2025-06-01 12:00:00         22.3        60       800\n",
       "3 2025-06-01 14:00:00         23.8        55       799\n",
       "4 2025-06-01 16:00:00         21.9        59       788"
      ]
     },
     "execution_count": 3,
     "metadata": {},
     "output_type": "execute_result"
    }
   ],
   "source": [
    "df = temperature_df.merge(humidity_df)\n",
    "df = df.merge(pressure_df)\n",
    "df"
   ]
  }
 ],
 "metadata": {
  "kaggle": {
   "accelerator": "none",
   "dataSources": [],
   "dockerImageVersionId": 31089,
   "isGpuEnabled": false,
   "isInternetEnabled": true,
   "language": "python",
   "sourceType": "notebook"
  },
  "kernelspec": {
   "display_name": "Python 3",
   "language": "python",
   "name": "python3"
  },
  "language_info": {
   "codemirror_mode": {
    "name": "ipython",
    "version": 3
   },
   "file_extension": ".py",
   "mimetype": "text/x-python",
   "name": "python",
   "nbconvert_exporter": "python",
   "pygments_lexer": "ipython3",
   "version": "3.11.13"
  },
  "papermill": {
   "default_parameters": {},
   "duration": 8.648981,
   "end_time": "2025-09-05T19:56:25.946001",
   "environment_variables": {},
   "exception": null,
   "input_path": "__notebook__.ipynb",
   "output_path": "__notebook__.ipynb",
   "parameters": {},
   "start_time": "2025-09-05T19:56:17.297020",
   "version": "2.6.0"
  }
 },
 "nbformat": 4,
 "nbformat_minor": 5
}
